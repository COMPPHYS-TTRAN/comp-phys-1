{
 "cells": [
  {
   "cell_type": "code",
   "execution_count": null,
   "metadata": {
    "collapsed": false
   },
   "outputs": [],
   "source": [
    "#global vs. local variables\n",
    "\n",
    "def F2(c):\n",
    "    F_value = (9.0/5)*c+32\n",
    "    return F_value\n",
    "\n",
    "c = 89 \n",
    "print \"c outside F2 = \", c\n",
    "s1 = F2(21)\n",
    "c = s1\n",
    "print \"c outside F2 = \", c"
   ]
  },
  {
   "cell_type": "code",
   "execution_count": null,
   "metadata": {
    "collapsed": false
   },
   "outputs": [],
   "source": [
    "#Identical to cell abov but with this statement global (var) added into the function\n",
    "#Do not use global variables as a first resort. Only when at the top of Morodor"
   ]
  },
  {
   "cell_type": "code",
   "execution_count": null,
   "metadata": {
    "collapsed": false
   },
   "outputs": [],
   "source": [
    "#this will give you an error\n",
    "#\n",
    "\n",
    "a = 3 \n",
    "print \"outside\", a\n",
    "def f():\n",
    "    b=3\n",
    "    #global a\n",
    "    #a=1./a\n",
    "    d=1./a\n",
    "    print 'inside', a\n",
    "    return\n",
    "\n",
    "f()\n",
    "print \"outside\", a"
   ]
  },
  {
   "cell_type": "code",
   "execution_count": null,
   "metadata": {
    "collapsed": false
   },
   "outputs": [],
   "source": [
    "def yfunc(t, v0):\n",
    "    \"\"\"\n",
    "    \n",
    "    Potatoes, cook em', boil em' Ian Ian Ian Ian Ian Ian Ian\n",
    "    \"\"\"\n",
    "    \n",
    "    g=9.81\n",
    "    return v0*t - 0.5*g*t**2\n",
    "\n",
    "print yfunc(10, 100)\n",
    "print 'docstring for yfunc()', yfunc.__doc__\n",
    "print 'docstring for yfunc()', sum.__doc__"
   ]
  },
  {
   "cell_type": "code",
   "execution_count": null,
   "metadata": {
    "collapsed": true
   },
   "outputs": [],
   "source": [
    "#Positional vs. Keyword arguments\n",
    "#Brevity vs. functionality"
   ]
  },
  {
   "cell_type": "code",
   "execution_count": null,
   "metadata": {
    "collapsed": false
   },
   "outputs": [],
   "source": [
    "#magic functions (line magic vs. cell magic) in iPython\n",
    "\n",
    "#line magic\n",
    "%timeit range(1000)"
   ]
  },
  {
   "cell_type": "code",
   "execution_count": null,
   "metadata": {
    "collapsed": false
   },
   "outputs": [],
   "source": [
    "#cell magic \n",
    "%%timeit x = range(1000)\n",
    "max(x)"
   ]
  },
  {
   "cell_type": "code",
   "execution_count": null,
   "metadata": {
    "collapsed": true
   },
   "outputs": [],
   "source": [
    "def yfunc2(t, v0):\n",
    "    g = 9.81\n",
    "    y = v0*t - 0.5*g*t**2\n",
    "    yprime = v - g*t\n",
    "    return y, yprime\n",
    "pos, vel = y func2(2,10) \n",
    "\n",
    "print 'position = {:10.2g} velocity = {:+10.2g}'.format(pos, vel)\n"
   ]
  },
  {
   "cell_type": "code",
   "execution_count": null,
   "metadata": {
    "collapsed": false
   },
   "outputs": [],
   "source": [
    "#The unpacking operator : * (the asterisk)\n",
    "\n",
    "print range(3, 6)\n",
    "range_params = [3,6]\n",
    "print range(*range_params) #unpacks the list above\n",
    "range_params = 3, 6\n",
    "\n",
    "#ERROR:\n",
    "print range(*range_params)\n",
    "#print range(range_params) -> gives an error, range cannot operate on a tuple or list\n",
    "\n"
   ]
  },
  {
   "cell_type": "code",
   "execution_count": null,
   "metadata": {
    "collapsed": true
   },
   "outputs": [],
   "source": [
    "# interactive python debugging tool (module: pdb)\n",
    "\n",
    "\"\"\"\n",
    "most useful debugger commands:\n",
    "\n",
    "-n(ext)\n",
    "-s(tep)\n",
    "-p(rint)\n",
    "-unt(il)\n",
    "-c(ontinue)\n",
    "-l(ist) \n",
    "-w(here) #tells you where you are in the program\n",
    "-h(elp) #tells you all the functions in the debugger\n",
    "-q(uit) #exits debugger\n",
    "\n",
    "\"\"\"\n",
    "\n",
    "#keyboard interrupt: ctrl + c\n",
    "\n"
   ]
  },
  {
   "cell_type": "code",
   "execution_count": 50,
   "metadata": {
    "collapsed": false
   },
   "outputs": [
    {
     "ename": "UnboundLocalError",
     "evalue": "local variable 'approx' referenced before assignment",
     "output_type": "error",
     "traceback": [
      "\u001b[0;31m---------------------------------------------------------------------------\u001b[0m",
      "\u001b[0;31mUnboundLocalError\u001b[0m                         Traceback (most recent call last)",
      "\u001b[0;32m<ipython-input-50-204c50f554b9>\u001b[0m in \u001b[0;36m<module>\u001b[0;34m()\u001b[0m\n\u001b[1;32m     10\u001b[0m \u001b[0;34m\u001b[0m\u001b[0m\n\u001b[1;32m     11\u001b[0m \u001b[0mx\u001b[0m \u001b[0;34m=\u001b[0m \u001b[0;36m2\u001b[0m\u001b[0;34m\u001b[0m\u001b[0m\n\u001b[0;32m---> 12\u001b[0;31m \u001b[0my\u001b[0m \u001b[0;34m=\u001b[0m \u001b[0mL\u001b[0m\u001b[0;34m(\u001b[0m\u001b[0mx\u001b[0m\u001b[0;34m,\u001b[0m \u001b[0;36m100\u001b[0m\u001b[0;34m)\u001b[0m\u001b[0;34m\u001b[0m\u001b[0m\n\u001b[0m\u001b[1;32m     13\u001b[0m \u001b[0;32mprint\u001b[0m \u001b[0;34m'Taylor Series Approximation:'\u001b[0m\u001b[0;34m,\u001b[0m \u001b[0my\u001b[0m\u001b[0;34m\u001b[0m\u001b[0m\n\u001b[1;32m     14\u001b[0m \u001b[0;32mfrom\u001b[0m \u001b[0mmath\u001b[0m \u001b[0;32mimport\u001b[0m \u001b[0mlog\u001b[0m  \u001b[0;31m#you would guess math module would have log...yes!\u001b[0m\u001b[0;34m\u001b[0m\u001b[0m\n",
      "\u001b[0;32m<ipython-input-50-204c50f554b9>\u001b[0m in \u001b[0;36mL\u001b[0;34m(x, n)\u001b[0m\n\u001b[1;32m      4\u001b[0m     \u001b[0;32mfor\u001b[0m \u001b[0mi\u001b[0m \u001b[0;32min\u001b[0m \u001b[0mrange\u001b[0m\u001b[0;34m(\u001b[0m\u001b[0;36m1\u001b[0m\u001b[0;34m,\u001b[0m \u001b[0mn\u001b[0m \u001b[0;34m+\u001b[0m \u001b[0;36m1\u001b[0m\u001b[0;34m)\u001b[0m\u001b[0;34m:\u001b[0m\u001b[0;34m\u001b[0m\u001b[0m\n\u001b[1;32m      5\u001b[0m \u001b[0;34m\u001b[0m\u001b[0m\n\u001b[0;32m----> 6\u001b[0;31m         \u001b[0mapprox\u001b[0m \u001b[0;34m+=\u001b[0m \u001b[0;34m(\u001b[0m\u001b[0;36m1\u001b[0m\u001b[0;34m/\u001b[0m\u001b[0;34m(\u001b[0m\u001b[0mi\u001b[0m\u001b[0;34m+\u001b[0m\u001b[0;36m1\u001b[0m\u001b[0;34m)\u001b[0m\u001b[0;34m)\u001b[0m\u001b[0;34m*\u001b[0m\u001b[0;34m(\u001b[0m\u001b[0mx\u001b[0m\u001b[0;34m/\u001b[0m\u001b[0;34m(\u001b[0m\u001b[0;36m1\u001b[0m\u001b[0;34m+\u001b[0m\u001b[0mx\u001b[0m\u001b[0;34m)\u001b[0m\u001b[0;34m)\u001b[0m\u001b[0;34m**\u001b[0m\u001b[0;34m(\u001b[0m\u001b[0mi\u001b[0m\u001b[0;34m+\u001b[0m\u001b[0;36m1\u001b[0m\u001b[0;34m)\u001b[0m\u001b[0;34m\u001b[0m\u001b[0m\n\u001b[0m\u001b[1;32m      7\u001b[0m         \u001b[0;31m#print approx\u001b[0m\u001b[0;34m\u001b[0m\u001b[0;34m\u001b[0m\u001b[0m\n\u001b[1;32m      8\u001b[0m     \u001b[0;32mreturn\u001b[0m \u001b[0mapprox\u001b[0m\u001b[0;34m\u001b[0m\u001b[0m\n",
      "\u001b[0;31mUnboundLocalError\u001b[0m: local variable 'approx' referenced before assignment"
     ]
    }
   ],
   "source": [
    "import pdb\n",
    "\n",
    "def L(x, n):\n",
    "    for i in range(1, n + 1):\n",
    "        \n",
    "        approx += (1/(i+1))*(x/(1+x))**(i+1)\n",
    "        #print approx\n",
    "    return approx\n",
    "\n",
    "\n",
    "x = 2\n",
    "y = L(x, 100)\n",
    "print 'Taylor Series Approximation:', y\n",
    "from math import log  #you would guess math module would have log...yes!\n",
    "exact_val = log(1+x)\n",
    "print 'exact_val', exact_val\n",
    "from math import log1p  #more accurate for small x.\n",
    "print 'log1p output', log1p(x)"
   ]
  }
 ],
 "metadata": {
  "kernelspec": {
   "display_name": "Python 2",
   "language": "python",
   "name": "python2"
  },
  "language_info": {
   "codemirror_mode": {
    "name": "ipython",
    "version": 2
   },
   "file_extension": ".py",
   "mimetype": "text/x-python",
   "name": "python",
   "nbconvert_exporter": "python",
   "pygments_lexer": "ipython2",
   "version": "2.7.9"
  }
 },
 "nbformat": 4,
 "nbformat_minor": 0
}
