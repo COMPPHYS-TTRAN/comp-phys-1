{
 "cells": [
  {
   "cell_type": "code",
   "execution_count": null,
   "metadata": {
    "collapsed": false
   },
   "outputs": [],
   "source": [
    "#global vs. local variables\n",
    "\n",
    "def F2(c):\n",
    "    F_value = (9.0/5)*c+32\n",
    "    return F_value\n",
    "\n",
    "c = 89 \n",
    "print \"c outside F2 = \", c\n",
    "s1 = F2(21)\n",
    "c = s1\n",
    "print \"c outside F2 = \", c"
   ]
  },
  {
   "cell_type": "code",
   "execution_count": null,
   "metadata": {
    "collapsed": true
   },
   "outputs": [],
   "source": []
  },
  {
   "cell_type": "code",
   "execution_count": null,
   "metadata": {
    "collapsed": false
   },
   "outputs": [],
   "source": [
    "#Identical to cell abov but with this statement global (var) added into the function\n",
    "#Do not use global variables as a first resort. Only when at the top of Morodor"
   ]
  },
  {
   "cell_type": "code",
   "execution_count": null,
   "metadata": {
    "collapsed": false
   },
   "outputs": [],
   "source": [
    "#this will give you an error\n",
    "#\n",
    "\n",
    "a = 3 \n",
    "print \"outside\", a\n",
    "def f():\n",
    "    b=3\n",
    "    #global a\n",
    "    #a=1./a\n",
    "    d=1./a\n",
    "    print 'inside', a\n",
    "    return\n",
    "\n",
    "f()\n",
    "print \"outside\", a"
   ]
  },
  {
   "cell_type": "code",
   "execution_count": null,
   "metadata": {
    "collapsed": false
   },
   "outputs": [],
   "source": [
    "def yfunc(t, v0):\n",
    "    \"\"\"\n",
    "    \n",
    "    Potatoes, cook em', boil em' Ian Ian Ian Ian Ian Ian Ian\n",
    "    \"\"\"\n",
    "    \n",
    "    g=9.81\n",
    "    return v0*t - 0.5*g*t**2\n",
    "\n",
    "print yfunc(10, 100)\n",
    "print 'docstring for yfunc()', yfunc.__doc__\n",
    "print 'docstring for yfunc()', sum.__doc__"
   ]
  },
  {
   "cell_type": "code",
   "execution_count": null,
   "metadata": {
    "collapsed": true
   },
   "outputs": [],
   "source": [
    "#Positional vs. Keyword arguments\n",
    "#Brevity vs. functionality"
   ]
  },
  {
   "cell_type": "code",
   "execution_count": null,
   "metadata": {
    "collapsed": false
   },
   "outputs": [],
   "source": [
    "#magic functions (line magic vs. cell magic) in iPython\n",
    "\n",
    "#line magic\n",
    "%timeit range(1000)"
   ]
  },
  {
   "cell_type": "code",
   "execution_count": null,
   "metadata": {
    "collapsed": false
   },
   "outputs": [],
   "source": [
    "#cell magic \n",
    "%%timeit x = range(1000)\n",
    "max(x)"
   ]
  },
  {
   "cell_type": "code",
   "execution_count": null,
   "metadata": {
    "collapsed": true
   },
   "outputs": [],
   "source": [
    "def yfunc2(t, v0):\n",
    "    g = 9.81\n",
    "    y = v0*t - 0.5*g*t**2\n",
    "    yprime = v - g*t\n",
    "    return y, yprime\n",
    "pos, vel = y func2(2,10) \n",
    "\n",
    "print 'position = {:10.2g} velocity = {:+10.2g}'.format(pos, vel)\n"
   ]
  },
  {
   "cell_type": "code",
   "execution_count": null,
   "metadata": {
    "collapsed": false
   },
   "outputs": [],
   "source": [
    "#The unpacking operator : * (the asterisk)\n",
    "\n",
    "print range(3, 6)\n",
    "range_params = [3,6]\n",
    "print range(*range_params) #unpacks the list above\n",
    "range_params = 3, 6\n",
    "\n",
    "#ERROR:\n",
    "print range(*range_params)\n",
    "#print range(range_params) -> gives an error, range cannot operate on a tuple or list\n",
    "\n"
   ]
  },
  {
   "cell_type": "code",
   "execution_count": null,
   "metadata": {
    "collapsed": true
   },
   "outputs": [],
   "source": [
    "# interactive python debugging tool (module: pdb)\n",
    "\n",
    "\"\"\"\n",
    "most useful debugger commands:\n",
    "\n",
    "-n(ext)\n",
    "-s(tep)\n",
    "-p(rint)\n",
    "-unt(il)\n",
    "-c(ontinue)\n",
    "-l(ist) \n",
    "-w(here) #tells you where you are in the program\n",
    "-h(elp) #tells you all the functions in the debugger\n",
    "-q(uit) #exits debugger\n",
    "\n",
    "\"\"\"\n",
    "\n",
    "#keyboard interrupt: ctrl + c\n",
    "\n"
   ]
  },
  {
   "cell_type": "code",
<<<<<<< HEAD
   "execution_count": 4,
=======
   "execution_count": 1,
>>>>>>> 2e43d535081de23f180fc3762fdced0e0e641c68
   "metadata": {
    "collapsed": false
   },
   "outputs": [
    {
<<<<<<< HEAD
     "name": "stdout",
     "output_type": "stream",
     "text": [
      "Oh nooooooooooo, stop! 1.26262626263\n",
      "Taylor Series Approximation: 0.00779043791355\n"
=======
     "ename": "UnboundLocalError",
     "evalue": "local variable 'approx' referenced before assignment",
     "output_type": "error",
     "traceback": [
      "\u001b[1;31m---------------------------------------------------------------------------\u001b[0m",
      "\u001b[1;31mUnboundLocalError\u001b[0m                         Traceback (most recent call last)",
      "\u001b[1;32m<ipython-input-1-a6534dadc616>\u001b[0m in \u001b[0;36m<module>\u001b[1;34m()\u001b[0m\n\u001b[0;32m     10\u001b[0m \u001b[1;33m\u001b[0m\u001b[0m\n\u001b[0;32m     11\u001b[0m \u001b[0mx\u001b[0m \u001b[1;33m=\u001b[0m \u001b[1;36m2\u001b[0m\u001b[1;33m\u001b[0m\u001b[0m\n\u001b[1;32m---> 12\u001b[1;33m \u001b[0my\u001b[0m \u001b[1;33m=\u001b[0m \u001b[0mL\u001b[0m\u001b[1;33m(\u001b[0m\u001b[0mx\u001b[0m\u001b[1;33m,\u001b[0m \u001b[1;36m100\u001b[0m\u001b[1;33m)\u001b[0m\u001b[1;33m\u001b[0m\u001b[0m\n\u001b[0m\u001b[0;32m     13\u001b[0m \u001b[1;32mprint\u001b[0m \u001b[1;34m'Taylor Series Approximation:'\u001b[0m\u001b[1;33m,\u001b[0m \u001b[0my\u001b[0m\u001b[1;33m\u001b[0m\u001b[0m\n\u001b[0;32m     14\u001b[0m \u001b[1;32mfrom\u001b[0m \u001b[0mmath\u001b[0m \u001b[1;32mimport\u001b[0m \u001b[0mlog\u001b[0m  \u001b[1;31m#you would guess math module would have log...yes!\u001b[0m\u001b[1;33m\u001b[0m\u001b[0m\n",
      "\u001b[1;32m<ipython-input-1-a6534dadc616>\u001b[0m in \u001b[0;36mL\u001b[1;34m(x, n)\u001b[0m\n\u001b[0;32m      4\u001b[0m     \u001b[1;32mfor\u001b[0m \u001b[0mi\u001b[0m \u001b[1;32min\u001b[0m \u001b[0mrange\u001b[0m\u001b[1;33m(\u001b[0m\u001b[1;36m1\u001b[0m\u001b[1;33m,\u001b[0m \u001b[0mn\u001b[0m \u001b[1;33m+\u001b[0m \u001b[1;36m1\u001b[0m\u001b[1;33m)\u001b[0m\u001b[1;33m:\u001b[0m\u001b[1;33m\u001b[0m\u001b[0m\n\u001b[0;32m      5\u001b[0m         \u001b[0mpdb\u001b[0m\u001b[1;33m\u001b[0m\u001b[0m\n\u001b[1;32m----> 6\u001b[1;33m         \u001b[0mapprox\u001b[0m \u001b[1;33m+=\u001b[0m \u001b[1;33m(\u001b[0m\u001b[1;36m1\u001b[0m\u001b[1;33m/\u001b[0m\u001b[1;33m(\u001b[0m\u001b[0mi\u001b[0m\u001b[1;33m+\u001b[0m\u001b[1;36m1\u001b[0m\u001b[1;33m)\u001b[0m\u001b[1;33m)\u001b[0m\u001b[1;33m*\u001b[0m\u001b[1;33m(\u001b[0m\u001b[0mx\u001b[0m\u001b[1;33m/\u001b[0m\u001b[1;33m(\u001b[0m\u001b[1;36m1\u001b[0m\u001b[1;33m+\u001b[0m\u001b[0mx\u001b[0m\u001b[1;33m)\u001b[0m\u001b[1;33m)\u001b[0m\u001b[1;33m**\u001b[0m\u001b[1;33m(\u001b[0m\u001b[0mi\u001b[0m\u001b[1;33m+\u001b[0m\u001b[1;36m1\u001b[0m\u001b[1;33m)\u001b[0m\u001b[1;33m\u001b[0m\u001b[0m\n\u001b[0m\u001b[0;32m      7\u001b[0m         \u001b[1;31m#print approx\u001b[0m\u001b[1;33m\u001b[0m\u001b[1;33m\u001b[0m\u001b[0m\n\u001b[0;32m      8\u001b[0m     \u001b[1;32mreturn\u001b[0m \u001b[0mapprox\u001b[0m\u001b[1;33m\u001b[0m\u001b[0m\n",
      "\u001b[1;31mUnboundLocalError\u001b[0m: local variable 'approx' referenced before assignment"
>>>>>>> 2e43d535081de23f180fc3762fdced0e0e641c68
     ]
    }
   ],
   "source": [
    "import pdb\n",
    "from math import *\n",
    "def L(x, n):\n",
<<<<<<< HEAD
    "    if x<-1:\n",
    "        return 'x cannot be below -1. Try Again'\n",
    "    #pdb.set_trace()\n",
    "    for i in range(1, n+1):\n",
    "\tapprox = 0.0\n",
    "        approx += (1.0/i)*(x/(1.0+x))**(i)\n",
    "    \tif i == n-1:    \n",
    "    \t    o_approx = approx \n",
    "    fracerror = (abs(o_approx - approx) / approx) * 100\n",
    "    print 'Oh nooooooooooo, stop!', fracerror  \n",
=======
    "    for i in range(1, n + 1):\n",
    "        approx += (1/(i+1))*(x/(1+x))**(i+1)\n",
    "        #print approx\n",
>>>>>>> 2e43d535081de23f180fc3762fdced0e0e641c68
    "    return approx\n",
    "\n",
    "x = 400\n",
    "approx = 0\n",
    "y = L(x, 100)\n",
    "print 'Taylor Series Approximation:', y\n",
    "from math import log  #you would guess math module would have log...yes!\n",
    "#exact_val = log(1+x)\n",
    "#print 'exact_val', exact_val\n",
    "#from math import log1p  #more accurate for small x.\n",
    "#print 'log1p output', log1p(x)"
   ]
  },
  {
   "cell_type": "code",
   "execution_count": null,
   "metadata": {
    "collapsed": false
   },
   "outputs": [],
   "source": [
    "from math import *\n",
    "x = 10\n",
    "%timeit L(x,100)\n",
    "%timeit exact_val = log(x+1)\n",
    "%from math import log1p  \n",
    "%print 'log1p output', log1p(x)"
   ]
  },
  {
   "cell_type": "code",
   "execution_count": 8,
   "metadata": {
    "collapsed": false
   },
   "outputs": [
    {
     "name": "stdout",
     "output_type": "stream",
     "text": [
      "44.6150353213\n",
      "42.0252092426\n",
      "42.0002520015\n",
      "42.0000025203\n",
      "41.9999923729\n",
      "42.0007362223\n",
      "41.9442258703\n",
      "47.7395900589\n",
      "-666.133814775\n",
      "0.0\n",
      "0.0\n",
      "-666133814.775\n",
      "66613381477.5\n",
      "0.0\n"
     ]
    }
   ],
   "source": [
    "#Numerical Instability and arbitrary Precision\n",
    "\n",
    "def g(t):\n",
    "    return t**(-6)\n",
    "\n",
    "def diff2(f, x, h=1e-6):\n",
    "    r = (f(x-h) - 2*f(x) + f(x+h))/float(h*h)\n",
    "    return r\n",
    "\n",
    "for k in range(1, 15):\n",
    "    h = 10**(-k)\n",
    "    d2g = diff2(g, 1,h)\n",
    "    print d2g"
   ]
  },
  {
   "cell_type": "code",
   "execution_count": 21,
   "metadata": {
    "collapsed": false
   },
   "outputs": [
    {
     "name": "stdout",
     "output_type": "stream",
     "text": [
      "44.6150353212698176986956345301\n",
      "42.02520924257460072378326007\n",
      "42.000252000924002574006009\n",
      "42.0000025200000924000023\n",
      "42.00000002520000000922\n",
      "42.000000000251999998\n",
      "42.0000000000025200\n",
      "42.00000000000001\n",
      "42.000000000000\n",
      "42.0000000004\n",
      "42.00000000\n",
      "42.000000\n",
      "42.0000\n",
      "42.00\n"
     ]
    }
   ],
   "source": [
    "#Numerical Instability and arbitrary Precision\n",
    "import decimal\n",
    "decimal.getcontext().prec = 30\n",
    "D = decimal.Decimal\n",
    "\n",
    "def g(t):\n",
    "    return t**(-6)\n",
    "\n",
    "def diff2(f, x, h=1e-9):\n",
    "    x = D(str(x)); h = D(str(h))\n",
    "    r = (f(x-h) - 2*f(x) + f(x+h)) / (h*h)\n",
    "    return r\n",
    "\n",
    "for k in range(1, 15):\n",
    "    h = 10**(-k)\n",
    "    d2g = diff2(g, 1,h)\n",
    "    print d2g\n",
    "    \n",
    "if __name__ == \"__main\":\n",
    "    \n",
    "    import doctest\n",
    "    doctest.testmod() -v\n",
    "    \n",
    "    x =1000\n",
    "    y = L(x)\n",
    "    print 'series approx' , y "
   ]
  },
  {
   "cell_type": "code",
   "execution_count": 13,
   "metadata": {
    "collapsed": false
   },
   "outputs": [
    {
     "name": "stdout",
     "output_type": "stream",
     "text": [
      "13\n",
      "13\n"
     ]
    }
   ],
   "source": [
    "f = lambda x: x**2 +4\n",
    "def g(x):\n",
    "    return x**2+ 4\n",
    "\n",
    "print g(3)\n",
    "print f(3)\n"
   ]
  },
  {
   "cell_type": "code",
   "execution_count": 15,
   "metadata": {
    "collapsed": false
   },
   "outputs": [
    {
     "name": "stdout",
     "output_type": "stream",
     "text": [
      "<type 'function'>\n",
      "0\n"
     ]
    }
   ],
   "source": [
    "from math import pi, sin\n",
    "x = 1.5\n",
    "a = 2 if x< 1 else 0\n",
    "f = lambda x: sin(x) if 0 <= x <= 2*pi else 0 \n",
    "print type(f)\n",
    "print a \n"
   ]
  },
  {
   "cell_type": "markdown",
   "metadata": {},
   "source": [
    "# DOC TEST"
   ]
  },
  {
   "cell_type": "code",
   "execution_count": 16,
   "metadata": {
    "collapsed": true
   },
   "outputs": [],
   "source": [
    "#required for hw 2 and on"
   ]
  },
  {
   "cell_type": "code",
   "execution_count": null,
   "metadata": {
    "collapsed": true
   },
   "outputs": [],
   "source": [
    "#add doctest to temp function"
   ]
  },
  {
   "cell_type": "code",
   "execution_count": null,
   "metadata": {
    "collapsed": true
   },
   "outputs": [],
   "source": [
    "#THURSDAY \n",
    "\n"
   ]
  }
 ],
 "metadata": {
  "kernelspec": {
   "display_name": "Python 2",
   "language": "python",
   "name": "python2"
  },
  "language_info": {
   "codemirror_mode": {
    "name": "ipython",
    "version": 2
   },
   "file_extension": ".py",
   "mimetype": "text/x-python",
   "name": "python",
   "nbconvert_exporter": "python",
   "pygments_lexer": "ipython2",
   "version": "2.7.9"
  }
 },
 "nbformat": 4,
 "nbformat_minor": 0
}
