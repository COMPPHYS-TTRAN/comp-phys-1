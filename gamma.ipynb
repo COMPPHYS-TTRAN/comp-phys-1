{
 "cells": [
  {
   "cell_type": "code",
   "execution_count": 48,
   "metadata": {
    "collapsed": false
   },
   "outputs": [
    {
     "name": "stdout",
     "output_type": "stream",
     "text": [
      "input t...3\n",
      "input your desired tolerance....001\n",
      "2\n"
     ]
    }
   ],
   "source": [
    "\"\"\"\n",
    "Gamma \n",
    "\n",
    ">>> Gamma()\n",
    "'Error: Integer must be between 1 to 100. Try again.'\n",
    "\n",
    ">>> Gamma()\n",
    "1\n",
    "\n",
    ">>> Gamma()\n",
    "'Error: Integer must be between 1 to 100. Try again.'\n",
    "\n",
    ">>> Gamma()\n",
    "\n",
    "\n",
    ">>> Gamma()\n",
    "\n",
    "\n",
    ">>> Gamma()\n",
    "\n",
    "\n",
    "\"\"\"\n",
    "import math\n",
    "\n",
    "def gam_I(t):\n",
    "    return math.factorial(t-1)\n",
    "\n",
    "def gam_II(t, dx):\n",
    "    a = 0\n",
    "    b = 1000\n",
    "    n = (b-a)/dx # number of steps between interval\n",
    "    mdpts = []\n",
    "    l = a\n",
    "    r = l + dx\n",
    "    area=0.0 #area beneath the integral\n",
    "        \n",
    "    while r <= b:\n",
    "        mdpts += [(l+r)/2.0]\n",
    "        l += dx\n",
    "        r += dx\n",
    "        \n",
    "    for x in mdpts:\n",
    "        area += (x**(t-1)*(math.exp(-x)))\n",
    "    tot_area = area*dx\n",
    "    return tot_area \n",
    "\n",
    "def Gamma(): #step is temporary for testing...\n",
    "    t = input(\"input t...\")\n",
    "    dx = input(\"input your desired tolerance...\")\n",
    "    \n",
    "    if 100 < t < 1 :\n",
    "        return 'Error: Integer must be between 1 to 100. Try again.'\n",
    "\n",
    "    if type(t) == int:\n",
    "        return gam_I(t)\n",
    "    \n",
    "    else:\n",
    "        return gam_II(t, dx)\n",
    "        \n",
    "print Gamma()\n",
    "\n",
    "#if __name__ == \"__main__\":\n",
    "    #import doctest\n",
    "    #doctest.testmod()\n",
    "    \n",
    "\n"
   ]
  },
  {
   "cell_type": "code",
   "execution_count": null,
   "metadata": {
    "collapsed": true
   },
   "outputs": [],
   "source": []
  }
 ],
 "metadata": {
  "kernelspec": {
   "display_name": "Python 2",
   "language": "python",
   "name": "python2"
  },
  "language_info": {
   "codemirror_mode": {
    "name": "ipython",
    "version": 2
   },
   "file_extension": ".py",
   "mimetype": "text/x-python",
   "name": "python",
   "nbconvert_exporter": "python",
   "pygments_lexer": "ipython2",
   "version": "2.7.9"
  }
 },
 "nbformat": 4,
 "nbformat_minor": 0
}
