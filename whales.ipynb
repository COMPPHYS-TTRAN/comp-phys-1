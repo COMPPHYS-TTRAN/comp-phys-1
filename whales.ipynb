{
 "cells": [
  {
   "cell_type": "code",
   "execution_count": 146,
   "metadata": {
    "collapsed": false
   },
   "outputs": [
    {
     "name": "stdout",
     "output_type": "stream",
     "text": [
      "A female whale named p-nut was born!\n",
      "p-nut\n",
      "female\n",
      "0:00:00.000208\n"
     ]
    }
   ],
   "source": [
    "import datetime as dt\n",
    "\n",
    "class Whale:\n",
    "    \n",
    "    def __init__(self, name, sex):\n",
    "        self.name = name\n",
    "        self.sex = sex\n",
    "        #self.age = age\n",
    "        self.born = dt.datetime.now()\n",
    "        print 'A ' + str(self.sex) + ' whale named ' + str(self.name) + ' was born!'\n",
    "        \n",
    "    def __call__(self):\n",
    "        return '\\n'\n",
    "    \n",
    "    def __str__(self):\n",
    "        return 'A whale named ' + str(self.name) + ' ' + str(dt.datetime.now() - self.born)\n",
    "    \n",
    "    def sing(self):\n",
    "        return '\\a \\a \\a \\a \\a'\n",
    "    \n",
    "    def age(self):\n",
    "        age = dt.datetime.now() - self.born   \n",
    "        return age\n",
    "\n",
    "names = [zowshung, enter the huang, mothra and huang, james and the giant huang,\\\n",
    "         die huang, master shifu, xiaothonic, xiaosheng soccer, Huangfu Hustle,\\\n",
    "         Xiaouching tiger hidden huang, shanghuang noon, mortal huangbat,\\\n",
    "         Huang Potter and the prisoner of Huangkaban, The Huang strikes back, The Hobbit: Desolation of Huang,\\\n",
    "         The Huanger Games, Willy Hwongka and the Chocosheng Factory, Iron Huang, Xiaosheng]\n",
    "\n",
    "gender = [female, male]\n",
    "random.shuffle(gender)\n",
    "\n",
    "W = Whale('p-nut', 'female')\n",
    "print W.name\n",
    "print W.sex\n",
    "print W.age()\n",
    "print W.sing()"
   ]
  },
  {
   "cell_type": "code",
   "execution_count": 167,
   "metadata": {
    "collapsed": false
   },
   "outputs": [
    {
     "name": "stdout",
     "output_type": "stream",
     "text": [
      "0:32:00.526594\n"
     ]
    }
   ],
   "source": [
    "print W.age()"
   ]
  }
 ],
 "metadata": {
  "kernelspec": {
   "display_name": "Python 2",
   "language": "python",
   "name": "python2"
  },
  "language_info": {
   "codemirror_mode": {
    "name": "ipython",
    "version": 2
   },
   "file_extension": ".py",
   "mimetype": "text/x-python",
   "name": "python",
   "nbconvert_exporter": "python",
   "pygments_lexer": "ipython2",
   "version": "2.7.9"
  }
 },
 "nbformat": 4,
 "nbformat_minor": 0
}
