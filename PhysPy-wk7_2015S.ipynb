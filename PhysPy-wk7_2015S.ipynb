{
 "cells": [
  {
   "cell_type": "markdown",
   "metadata": {},
   "source": [
    "# Topics\n",
    "## 1. Class: Assignment vs. Instantiaion\n",
    "\n",
    "## 2. String Methods\n",
    "\n",
    "\n",
    "\n",
    "## 3. HTML and Retrieving Data from the Web\n"
   ]
  },
  {
   "cell_type": "markdown",
   "metadata": {},
   "source": [
    "## If a class f is defined, the difference between \n",
    "\n",
    "## g = f \n",
    "\n",
    "## and \n",
    "\n",
    "## g = f()"
   ]
  },
  {
   "cell_type": "code",
   "execution_count": 1,
   "metadata": {
    "collapsed": false
   },
   "outputs": [
    {
     "data": {
      "text/plain": [
       "27.0"
      ]
     },
     "execution_count": 1,
     "metadata": {},
     "output_type": "execute_result"
    }
   ],
   "source": [
    "class f:\n",
    "    def __init__(self, a = 3.):\n",
    "        self.a = a\n",
    "    def __call__(self, x):\n",
    "        return self.a*x**2\n",
    "fun = f()\n",
    "fun(3)"
   ]
  },
  {
   "cell_type": "code",
   "execution_count": 2,
   "metadata": {
    "collapsed": false
   },
   "outputs": [
    {
     "data": {
      "text/plain": [
       "48.0"
      ]
     },
     "execution_count": 2,
     "metadata": {},
     "output_type": "execute_result"
    }
   ],
   "source": [
    "g = f\n",
    "gun = g()\n",
    "gun(4)"
   ]
  },
  {
   "cell_type": "markdown",
   "metadata": {},
   "source": [
    "## Basic String Methods\n",
    "\n",
    "### See https://docs.python.org/2/library/string.html"
   ]
  },
  {
   "cell_type": "code",
   "execution_count": null,
   "metadata": {
    "collapsed": true
   },
   "outputs": [],
   "source": [
    "# A string a list\n",
    "words = 'The World is changed.\\n'\n",
    "for c in words:\n",
    "    print c\n",
    "    \n",
    "print 'Number of elements in words:', len(words)\n",
    "## But this is often not the most useful way to parse (take apart) a string."
   ]
  },
  {
   "cell_type": "code",
   "execution_count": null,
   "metadata": {
    "collapsed": true
   },
   "outputs": [],
   "source": [
    "# The split() method\n",
    "words = 'The World is changed.\\n'\n",
    "words = words.split()\n",
    "print words, type(words)   ## the formatting character \\n has been removed."
   ]
  },
  {
   "cell_type": "markdown",
   "metadata": {},
   "source": [
    "##Other important methods:\n",
    "\n",
    "### str.join():\n",
    "\n",
    "### str.split([delimiter]):  can be used with or without the delimiter specified\n",
    "\n",
    "###str.strip(): with the leading and trailing white space characters removed, including new lines.\n",
    "\n",
    "### str.replace(): \n",
    "\n",
    "\n",
    "### The full list:\n",
    "\n",
    "### https://docs.python.org/2/library/stdtypes.html#string-methods"
   ]
  },
  {
   "cell_type": "code",
   "execution_count": 2,
   "metadata": {
    "collapsed": false
   },
   "outputs": [
    {
     "name": "stdout",
     "output_type": "stream",
     "text": [
      "h-e-l-l-o- -w-o-r-l-d\n"
     ]
    }
   ],
   "source": [
    "str1 = '-'\n",
    "str2 = 'hello world'\n",
    "strg = str1.join(str2)\n",
    "print strg"
   ]
  },
  {
   "cell_type": "code",
   "execution_count": 4,
   "metadata": {
    "collapsed": false
   },
   "outputs": [
    {
     "name": "stdout",
     "output_type": "stream",
     "text": [
      "whelloohellorhellolhellod\n"
     ]
    }
   ],
   "source": [
    "str1 = 'hello'\n",
    "str2 = 'world'\n",
    "strg = str1.join(str2)\n",
    "print strg   # note: it doesn't do what you might think it would do!"
   ]
  },
  {
   "cell_type": "code",
   "execution_count": 8,
   "metadata": {
    "collapsed": false
   },
   "outputs": [
    {
     "name": "stdout",
     "output_type": "stream",
     "text": [
      "s1: ['8,4.4,', '9,', '5.3'] 3\n",
      "8,4.4,\n",
      "9,\n",
      "5.3\n"
     ]
    }
   ],
   "source": [
    "strg = '  8,4.4,      9, 5.3   '\n",
    "# no delimiter specified, split uses the default delimiter: (consecutive) white space(s).\n",
    "s1 = strg.split()  \n",
    "print 's1:', s1, len(s1)\n",
    "for elem in s1:\n",
    "    print elem\n",
    "\n",
    "# Note: 1. All white spaces removed.\n",
    "#       2. First two number not separated because there was no white space between them."
   ]
  },
  {
   "cell_type": "code",
   "execution_count": 9,
   "metadata": {
    "collapsed": false
   },
   "outputs": [
    {
     "data": {
      "text/plain": [
       "'  8,4.4,      9, 5.3   '"
      ]
     },
     "execution_count": 9,
     "metadata": {},
     "output_type": "execute_result"
    }
   ],
   "source": [
    "'''What do you expect?'''\n",
    "strg = '  8,4.4,      9, 5.3   '\n",
    "s1 = ''.join(strg)\n",
    "s1 \n",
    "\n",
    "\n"
   ]
  },
  {
   "cell_type": "code",
   "execution_count": 10,
   "metadata": {
    "collapsed": false
   },
   "outputs": [
    {
     "name": "stdout",
     "output_type": "stream",
     "text": [
      "8,4.4,9,5.3\n",
      "['8', '4.4', '9', '5.3']\n"
     ]
    }
   ],
   "source": [
    "# joins every element (a string of characters) in the list with zero length string, \n",
    "# and makes a new string.\n",
    "\n",
    "s1 = ['8,4.4,', '9,', '5.3']\n",
    "s2 = ''.join(s1)    \n",
    "print s2\n",
    "# couldn't do this on s1 becaues it's a list of strings.\n",
    "print s2.split(',')  "
   ]
  },
  {
   "cell_type": "code",
   "execution_count": 17,
   "metadata": {
    "collapsed": false,
    "scrolled": true
   },
   "outputs": [
    {
     "data": {
      "text/plain": [
       "'8,4.4,9,5.3'"
      ]
     },
     "execution_count": 17,
     "metadata": {},
     "output_type": "execute_result"
    }
   ],
   "source": [
    "#putting two methods together:\n",
    "strg = '  8,4.4,      9, 5.3   '\n",
    "s1 = ''.join(strg.split())  # split() removes white spaces; \n",
    "                            # ''.join() makes a new string that is delimited by ','.\n",
    "s1\n",
    "\n"
   ]
  },
  {
   "cell_type": "code",
   "execution_count": 16,
   "metadata": {
    "collapsed": false
   },
   "outputs": [
    {
     "name": "stdout",
     "output_type": "stream",
     "text": [
      "- 1  = exp(i*PI )\n"
     ]
    }
   ],
   "source": [
    "# method upon method.\n",
    "strg = '  - 1  = exp(i*pi )      \\n'\n",
    "print strg.replace('pi', 'PI').strip() #strip removes the spaces at the begining and end of a string"
   ]
  },
  {
   "cell_type": "markdown",
   "metadata": {},
   "source": [
    "## HTML (from wikipedia):\n",
    "\n",
    "### HyperText Markup Language (HTML) is the main markup language for creating web pages and other information that can be displayed in a web browser.\n",
    "\n",
    "###HTML is written in the form of HTML elements consisting of tags enclosed in angle brackets (like < html >), within the web page content. HTML tags most commonly come in pairs like < h1 > and < /h1 >, although some tags, known as empty elements, are unpaired, for example < img >. The first tag in a pair is the start tag, the second tag is the end tag (they are also called opening tags and closing tags). In between these tags web designers can add text, tags, comments and other types of text-based content."
   ]
  },
  {
   "cell_type": "markdown",
   "metadata": {},
   "source": [
    "## URL: Uniform Resource Locator (or \"web address\")"
   ]
  },
  {
   "cell_type": "raw",
   "metadata": {},
   "source": [
    "Simple Example of html:\n",
    "\n",
    "\n",
    "<!--    Simple Example of html -->\n",
    "\n",
    "<!DOCTYPE html>\n",
    "<html>\n",
    "\n",
    "<body style=\"background-color:yellow;\">\n",
    "<h2 style=\"background-color:red;\">Popular Movies</h2>\n",
    "<!-- The <p> tag defines a paragraph. -->\n",
    "<p style=\"background-color:green;\">April</p>\n",
    "\n",
    "\n",
    "<table border=\"1\">\n",
    "  <tr>                      <!-- tr: table row -->\n",
    "    <th>Weekend</th>        <!-- th: table header -->\n",
    "    <th>Top Box Office</th>\n",
    "  </tr>\n",
    "  <tr>\n",
    "    <td>April 19</td>       <!-- td: table data -->\n",
    "    <td>Oblivion</td>\n",
    "  </tr>\n",
    "</table>\n",
    "\n",
    "<!--<img src=\"oblivion-poster.jpg\" width=\"350\" height=\"500\"></body>-->   \n",
    "<img src=\"http://filmonic.com/wp-content/uploads/2012/12/oblivion-movie-poster.jpg\" width=\"1000\" height=\"1500\">\n",
    "\n",
    "<!--The tag div carves out a section -->\n",
    "<div style=\"color:#0000FF\">\n",
    "<!--<div \"background-color:yellow;\">-->\t\n",
    "  <h3>This is another heading</h3>\n",
    "  <p>This is another paragraph.</p>\n",
    "</div>\n",
    "\n",
    "\n",
    "\n",
    "</body>\n",
    "\n",
    "</html>\n",
    "\n",
    "\n",
    "Instructions:\n",
    "\n",
    "1. Copy/paste and save the code as my.html. \n",
    "\n",
    "2. Open my.html in your browser:\n",
    "\n",
    "> open -a Google\\ Chrome my.html #\\ special character gives whitespace\n",
    "\n"
   ]
  },
  {
   "cell_type": "markdown",
   "metadata": {},
   "source": [
    "## Creating a temporary directory\n",
    "### At the terminal:\n",
    "\n",
    "\\> mkdir tmp"
   ]
  },
  {
   "cell_type": "code",
   "execution_count": 6,
   "metadata": {
    "collapsed": false
   },
   "outputs": [
    {
     "data": {
      "text/plain": [
       "True"
      ]
     },
     "execution_count": 6,
     "metadata": {},
     "output_type": "execute_result"
    }
   ],
   "source": [
    "'''Another way to creast a webpage'''\n",
    "\n",
    "html_data = \"\"\"<!DOCTYPE html>\n",
    "<html>\n",
    "\n",
    "<body style=\"background-color:yellow;\">\n",
    "<h2 style=\"background-color:red;\">Popular Movies</h2>\n",
    "<p style=\"background-color:green;\">April</p>\n",
    "\n",
    "\n",
    "<table border=\"1\">\n",
    "  <tr>                      <!-- tr: table row -->\n",
    "    <th>Weekend</th>\n",
    "    <th>My Butt</th>\n",
    "  </tr>\n",
    "  <tr>\n",
    "    <td>April 19</td>       <!-- td: table data -->\n",
    "    <td>Oblivion</td>\n",
    "  </tr>\n",
    "</table>\n",
    "\n",
    "<!--<img src=\"oblivion-poster.jpg\" width=\"350\" height=\"500\"></body>-->   \n",
    "<img src=\"http://filmonic.com/wp-content/uploads/2012/12/oblivion-movie-poster.jpg\" width=\"350\" height=\"500\">\n",
    "\n",
    "<!--The tag div carves out a section -->\n",
    "<div style=\"color:#0000FF\">\n",
    "<!--<div \"background-color:yellow;\">-->\t\n",
    "  <h3>This is another heading</h3>\n",
    "  <p>This is another paragraph.</p>\n",
    "</div>\n",
    "\n",
    "\n",
    "\n",
    "</body>\n",
    "\n",
    "</html>\"\"\"\n",
    "\n",
    "import webbrowser    # a new module.\n",
    "dir_path = \"/Users/labuser/comp-phys/\"\n",
    "filenm = dir_path + \"tmp/tmp2.html\"                \n",
    "with open(filenm,\"w\") as f:\n",
    "    f.write(html_data)                      \n",
    "\n",
    "# file:/// analogous to http://\n",
    "webbrowser.open(\"file:///\" + filenm)     \n"
   ]
  },
  {
   "cell_type": "code",
   "execution_count": 13,
   "metadata": {
    "collapsed": false
   },
   "outputs": [
    {
     "data": {
      "text/plain": [
       "True"
      ]
     },
     "execution_count": 13,
     "metadata": {},
     "output_type": "execute_result"
    }
   ],
   "source": [
    "'''Another way to creast a webpage'''\n",
    "\n",
    "html_data = \"\"\"<!DOCTYPE html>\n",
    "<html>\n",
    "\n",
    "<body style=\"background-color:yellow;\">\n",
    "<h2 style=\"background-color:red;\">Popular Movies</h2>\n",
    "<p style=\"background-color:green;\">April</p>\n",
    "\n",
    "\n",
    "<table border=\"1\">\n",
    "  <tr>                      <!-- tr: table row -->\n",
    "    <th>Weekend</th>\n",
    "    <th>Top Boxxx office</th>\n",
    "  </tr>\n",
    "  <tr>\n",
    "    <td>April 19</td>       <!-- td: table data -->\n",
    "    <td>Oblivion</td>\n",
    "\n",
    "  </tr>\n",
    "</table>\n",
    "\n",
    "<!--<img src=\"oblivion-poster.jpg\" width=\"350\" height=\"500\"></body>-->   \n",
    "<img src=\"http://filmonic.com/wp-content/uploads/2012/12/oblivion-movie-poster.jpg\" width=\"350\" height=\"500\">\n",
    "\n",
    "<table border=\"1\">\n",
    "  <tr>                      <!-- tr: table row -->\n",
    "    <th>Weekend</th>\n",
    "    <th>Top Boxxx office</th>\n",
    "  </tr>\n",
    "  <tr>\n",
    "    <td>April 12</td>       <!-- td: table data -->\n",
    "    <td>42</td>\n",
    "  </tr>\n",
    "</table>\n",
    "\n",
    "<img src=\"http://www.joshuaplatt.info/.a/6a0120a4cd1f5e970b017eea64084c970d-800wi\" width=\"350\" height=\"5000\">\n",
    "\n",
    "<!--The tag div carves out a section -->\n",
    "<div style=\"color:#0000FF\">\n",
    "<!--<div \"background-color:yellow;\">-->\t\n",
    "  <h3>This is another heading</h3>\n",
    "  <p>This is another paragraph.</p>\n",
    "</div>\n",
    "\n",
    "\n",
    "\n",
    "</body>\n",
    "\n",
    "</html>\"\"\"\n",
    "\n",
    "import webbrowser    # a new module.\n",
    "dir_path = \"/Users/labuser/comp-phys/\"\n",
    "filenm = dir_path + \"tmp/tmp2.html\"                \n",
    "with open(filenm,\"w\") as f:\n",
    "    f.write(html_data)                      \n",
    "\n",
    "# file:/// analogous to http://\n",
    "webbrowser.open(\"file:///\" + filenm)     \n"
   ]
  },
  {
   "cell_type": "markdown",
   "metadata": {},
   "source": [
    "## Breakout Problem:\n",
    "\n",
    "### Top box office movie for the weekend of April 12, 2013, was \"42.\"  Extend the table and include a poster for 42.  Save the new file as tmp2.html."
   ]
  },
  {
   "cell_type": "markdown",
   "metadata": {},
   "source": [
    "## Two ways of accessing information on a webpage:\n",
    "\n",
    "### 1. Save the content in a html file (on your local hard drive), and open it later.\n",
    "### 2. Create a file object in your Python program and store the content there  (it will disappear as soon as python quits)."
   ]
  },
  {
   "cell_type": "code",
   "execution_count": 20,
   "metadata": {
    "collapsed": false
   },
   "outputs": [
    {
     "ename": "IOError",
     "evalue": "[Errno 2] No such file or directory: '/Users/xhuang22/Dropbox/Fa2015Teaching/PHYS301-CompPhys/code/Examples/tmp/sf_weather.html'",
     "output_type": "error",
     "traceback": [
      "\u001b[0;31m---------------------------------------------------------------------------\u001b[0m",
      "\u001b[0;31mIOError\u001b[0m                                   Traceback (most recent call last)",
      "\u001b[0;32m<ipython-input-20-22fdfa08e2b5>\u001b[0m in \u001b[0;36m<module>\u001b[0;34m()\u001b[0m\n\u001b[1;32m      6\u001b[0m \u001b[0mfilenm\u001b[0m \u001b[0;34m=\u001b[0m \u001b[0mdir_path\u001b[0m \u001b[0;34m+\u001b[0m \u001b[0;34m'tmp/sf_weather.html'\u001b[0m\u001b[0;34m\u001b[0m\u001b[0m\n\u001b[1;32m      7\u001b[0m \u001b[0;34m\u001b[0m\u001b[0m\n\u001b[0;32m----> 8\u001b[0;31m \u001b[0murllib\u001b[0m\u001b[0;34m.\u001b[0m\u001b[0murlretrieve\u001b[0m\u001b[0;34m(\u001b[0m\u001b[0murl\u001b[0m\u001b[0;34m,\u001b[0m \u001b[0mfilename\u001b[0m \u001b[0;34m=\u001b[0m \u001b[0mfilenm\u001b[0m\u001b[0;34m)\u001b[0m\u001b[0;34m\u001b[0m\u001b[0m\n\u001b[0m\u001b[1;32m      9\u001b[0m \u001b[0;31m# can now open sf_weather.html\u001b[0m\u001b[0;34m\u001b[0m\u001b[0;34m\u001b[0m\u001b[0m\n\u001b[1;32m     10\u001b[0m \u001b[0;31m# -- and you can actually edit it if you want to change its appearance.\u001b[0m\u001b[0;34m\u001b[0m\u001b[0;34m\u001b[0m\u001b[0m\n",
      "\u001b[0;32m/Applications/Canopy.app/appdata/canopy-1.5.5.3123.macosx-x86_64/Canopy.app/Contents/lib/python2.7/urllib.pyc\u001b[0m in \u001b[0;36murlretrieve\u001b[0;34m(url, filename, reporthook, data, context)\u001b[0m\n\u001b[1;32m     96\u001b[0m     \u001b[0;32melse\u001b[0m\u001b[0;34m:\u001b[0m\u001b[0;34m\u001b[0m\u001b[0m\n\u001b[1;32m     97\u001b[0m         \u001b[0mopener\u001b[0m \u001b[0;34m=\u001b[0m \u001b[0m_urlopener\u001b[0m\u001b[0;34m\u001b[0m\u001b[0m\n\u001b[0;32m---> 98\u001b[0;31m     \u001b[0;32mreturn\u001b[0m \u001b[0mopener\u001b[0m\u001b[0;34m.\u001b[0m\u001b[0mretrieve\u001b[0m\u001b[0;34m(\u001b[0m\u001b[0murl\u001b[0m\u001b[0;34m,\u001b[0m \u001b[0mfilename\u001b[0m\u001b[0;34m,\u001b[0m \u001b[0mreporthook\u001b[0m\u001b[0;34m,\u001b[0m \u001b[0mdata\u001b[0m\u001b[0;34m)\u001b[0m\u001b[0;34m\u001b[0m\u001b[0m\n\u001b[0m\u001b[1;32m     99\u001b[0m \u001b[0;32mdef\u001b[0m \u001b[0murlcleanup\u001b[0m\u001b[0;34m(\u001b[0m\u001b[0;34m)\u001b[0m\u001b[0;34m:\u001b[0m\u001b[0;34m\u001b[0m\u001b[0m\n\u001b[1;32m    100\u001b[0m     \u001b[0;32mif\u001b[0m \u001b[0m_urlopener\u001b[0m\u001b[0;34m:\u001b[0m\u001b[0;34m\u001b[0m\u001b[0m\n",
      "\u001b[0;32m/Applications/Canopy.app/appdata/canopy-1.5.5.3123.macosx-x86_64/Canopy.app/Contents/lib/python2.7/urllib.pyc\u001b[0m in \u001b[0;36mretrieve\u001b[0;34m(self, url, filename, reporthook, data)\u001b[0m\n\u001b[1;32m    247\u001b[0m             \u001b[0mheaders\u001b[0m \u001b[0;34m=\u001b[0m \u001b[0mfp\u001b[0m\u001b[0;34m.\u001b[0m\u001b[0minfo\u001b[0m\u001b[0;34m(\u001b[0m\u001b[0;34m)\u001b[0m\u001b[0;34m\u001b[0m\u001b[0m\n\u001b[1;32m    248\u001b[0m             \u001b[0;32mif\u001b[0m \u001b[0mfilename\u001b[0m\u001b[0;34m:\u001b[0m\u001b[0;34m\u001b[0m\u001b[0m\n\u001b[0;32m--> 249\u001b[0;31m                 \u001b[0mtfp\u001b[0m \u001b[0;34m=\u001b[0m \u001b[0mopen\u001b[0m\u001b[0;34m(\u001b[0m\u001b[0mfilename\u001b[0m\u001b[0;34m,\u001b[0m \u001b[0;34m'wb'\u001b[0m\u001b[0;34m)\u001b[0m\u001b[0;34m\u001b[0m\u001b[0m\n\u001b[0m\u001b[1;32m    250\u001b[0m             \u001b[0;32melse\u001b[0m\u001b[0;34m:\u001b[0m\u001b[0;34m\u001b[0m\u001b[0m\n\u001b[1;32m    251\u001b[0m                 \u001b[0;32mimport\u001b[0m \u001b[0mtempfile\u001b[0m\u001b[0;34m\u001b[0m\u001b[0m\n",
      "\u001b[0;31mIOError\u001b[0m: [Errno 2] No such file or directory: '/Users/xhuang22/Dropbox/Fa2015Teaching/PHYS301-CompPhys/code/Examples/tmp/sf_weather.html'"
     ]
    }
   ],
   "source": [
    "# Method 1\n",
    "import webbrowser   \n",
    "import urllib\n",
    "url = 'http://weather.yahoo.com/united-states/california/san-francisco-2487956/'\n",
    "dir_path = \"/Users/xhuang22/Dropbox/Fa2015Teaching/PHYS301-CompPhys/code/Examples/\"\n",
    "filenm = dir_path + 'tmp/sf_weather.html'                \n",
    "\n",
    "urllib.urlretrieve(url, filename = filenm)\n",
    "# can now open sf_weather.html \n",
    "# -- and you can actually edit it if you want to change its appearance.\n",
    "\n",
    "# And if you want to see it:\n",
    "webbrowser.open(\"file:///\" + filenm)\n",
    "\n"
   ]
  },
  {
   "cell_type": "code",
   "execution_count": 19,
   "metadata": {
    "collapsed": false
   },
   "outputs": [
    {
     "name": "stdout",
     "output_type": "stream",
     "text": [
      "<type 'list'> 928 \n",
      "\n",
      "\n",
      "\n",
      "['<!DOCTYPE html>\\n', '<html id=\"Stencil\" lang=\"en-US\" xmlns:og=\"http://ogp.me/ns#\" xmlns:fb=\"http://www.facebook.com/2008/fbml\" class=\"H-100\">\\n', '    <head>\\n', '        <script>var t_headstart=new Date().getTime();</script>\\n', '        <meta http-equiv=\"content-type\" content=\"text/html; charset=UTF-8\"/>\\n', '\\t<title>San Francisco Weather Forecasts | Maps | News - Yahoo! Weather</title>\\n', '\\t<meta http-equiv=\"x-dns-prefetch-control\" content=\"on\"><link rel=\"dns-prefetch\" href=\"https://s.yimg.com\"><link rel=\"dns-prefetch\" href=\"//y3.analytics.yahoo.com\"><link rel=\"dns-prefetch\" href=\"//geo.query.yahoo.com\"><link rel=\"dns-prefetch\" href=\"//geo.yahoo.com\"><link rel=\"dns-prefetch\" href=\"//csc.beap.bc.yahoo.com\"><link rel=\"dns-prefetch\" href=\"//b.scorecardresearch.com\">\\n', '\\t<!--[if !IE]><!--><link rel=\"icon\" sizes=\"any\" mask href=\"https://s.yimg.com/os/mit/media/p/common/images/favicon_new-7483e38.svg\"><meta name=\"theme-color\" content=\"#400090\"><!--<![endif]--><!--[if !IE]><!--><link rel=\"alternate icon\" type=\"image/x-icon\" href=\"/favicon.ico\"/><!--<![endif]-->\\n', '\\t<meta name=\"description\" lang=\"en-US\" content=\"Home\"/>\\n', '\\t<link rel=\"canonical\" href=\"https://weather.yahoo.com/united-states/california/san-francisco-2487956/\"/>\\n']\n"
     ]
    }
   ],
   "source": [
    "###Method 2\n",
    "import urllib\n",
    "url = 'http://weather.yahoo.com/united-states/california/san-francisco-2487956/'\n",
    "infile = urllib.urlopen(url)      \n",
    "#print 'type of infile:', type(infile)  # here you have created a file like object.\n",
    "                                        # but it only exists only as long as the current python session;\n",
    "\n",
    "# the object infile is of type file and so has the method .readlines()                                    \n",
    "lines = infile.readlines()   \n",
    "infile.close()\n",
    "print type(lines), len(lines), '\\n\\n\\n'\n",
    "print lines[:10]\n",
    "# if you want to see every line\n",
    "# for line in lines:\n",
    "#     print line"
   ]
  },
  {
   "cell_type": "code",
   "execution_count": 16,
   "metadata": {
    "collapsed": false
   },
   "outputs": [
    {
     "data": {
      "text/plain": [
       "True"
      ]
     },
     "execution_count": 16,
     "metadata": {},
     "output_type": "execute_result"
    }
   ],
   "source": [
    "# still method 2, but with a new module: urllib2\n",
    "import urllib2 \n",
    "import re\n",
    "url = 'http://weather.yahoo.com/united-states/california/san-francisco-2487956/'\n",
    "infile = urllib2.urlopen(url) \n",
    "weather_html_text = infile.read()   #here I used .read() so there you can see it with webbrowser.open() below.\n",
    "infile.close() \n",
    "# print html_weather_data[45000:47000]   #[45000:47000] -- the characters between\n",
    "                                         # the 45000th and 46999th.\n",
    "\n",
    "dir_path = \"/Users/labuser/comp-phys/\"\n",
    "filenm = dir_path + 'tmp/tmp3.html'                \n",
    "\n",
    "# it is true that I haven't closed this file.  Horrors! \n",
    "# it's for the expediency of one-liners.\n",
    "open(filenm,\"w\").write(weather_html_text)  \n",
    "\n",
    "# if one wants to open the file in a browser\n",
    "webbrowser.open(\"file:///\" + filenm)\n",
    "\n",
    "\n"
   ]
  },
  {
   "cell_type": "markdown",
   "metadata": {},
   "source": [
    "## Breakout Excercise:\n",
    "\n",
    "### Extract the high and temperatures from weather_html_text in Fahrenheit (say they are 65 an 54), and print out a statement like this: \n",
    "\n",
    "High and low temperatures are 65 and 54."
   ]
  },
  {
   "cell_type": "code",
   "execution_count": 21,
   "metadata": {
    "collapsed": false
   },
   "outputs": [
    {
     "ename": "NameError",
     "evalue": "name 'html_weather_data' is not defined",
     "output_type": "error",
     "traceback": [
      "\u001b[0;31m---------------------------------------------------------------------------\u001b[0m",
      "\u001b[0;31mNameError\u001b[0m                                 Traceback (most recent call last)",
      "\u001b[0;32m<ipython-input-21-de7ef2bfe616>\u001b[0m in \u001b[0;36m<module>\u001b[0;34m()\u001b[0m\n\u001b[1;32m      5\u001b[0m \u001b[0mweather_html_text\u001b[0m \u001b[0;34m=\u001b[0m \u001b[0minfile\u001b[0m\u001b[0;34m.\u001b[0m\u001b[0mread\u001b[0m\u001b[0;34m(\u001b[0m\u001b[0;34m)\u001b[0m   \u001b[0;31m#here I used .read() so there you can see it with webbrowser.open() below.\u001b[0m\u001b[0;34m\u001b[0m\u001b[0m\n\u001b[1;32m      6\u001b[0m \u001b[0minfile\u001b[0m\u001b[0;34m.\u001b[0m\u001b[0mclose\u001b[0m\u001b[0;34m(\u001b[0m\u001b[0;34m)\u001b[0m\u001b[0;34m\u001b[0m\u001b[0m\n\u001b[0;32m----> 7\u001b[0;31m \u001b[0;32mprint\u001b[0m \u001b[0mhtml_weather_data\u001b[0m\u001b[0;34m[\u001b[0m\u001b[0;36m45000\u001b[0m\u001b[0;34m:\u001b[0m\u001b[0;36m47000\u001b[0m\u001b[0;34m]\u001b[0m   \u001b[0;31m#[45000:47000] -- the characters between\u001b[0m\u001b[0;34m\u001b[0m\u001b[0m\n\u001b[0m\u001b[1;32m      8\u001b[0m                                          \u001b[0;31m# the 45000th and 46999th.\u001b[0m\u001b[0;34m\u001b[0m\u001b[0;34m\u001b[0m\u001b[0m\n\u001b[1;32m      9\u001b[0m \u001b[0;34m\u001b[0m\u001b[0m\n",
      "\u001b[0;31mNameError\u001b[0m: name 'html_weather_data' is not defined"
     ]
    }
   ],
   "source": [
    "import urllib2 \n",
    "import re\n",
    "url = 'http://weather.yahoo.com/united-states/california/san-francisco-2487956/'\n",
    "infile = urllib2.urlopen(url) \n",
    "weather_html_text = infile.read()   #here I used .read() so there you can see it with webbrowser.open() below.\n",
    "infile.close() \n",
    "print html_weather_data[45000:47000]   #[45000:47000] -- the characters between\n",
    "                                         # the 45000th and 46999th.\n",
    "\n",
    "dir_path = \"/Users/labuser/comp-phys/\"\n",
    "filenm = dir_path + 'tmp/tmp3.html'                \n",
    "\n",
    "\n",
    "matchstring = ':.*arrow\">\\d\\d*&deg'\n",
    "\n",
    "\n",
    "# it is true that I haven't closed this file.  Horrors! \n",
    "# it's for the expediency of one-liners.\n",
    "open(filenm,\"w\").write(weather_html_text)  \n",
    "\n",
    "# if one wants to open the file in a browser\n",
    "webbrowser.open(\"file:///\" + filenm)\n",
    "\n",
    "\n",
    "print 'High and Low temperatures in Fahrenheit are:','and' "
   ]
  },
  {
   "cell_type": "code",
   "execution_count": 16,
   "metadata": {
    "collapsed": false
   },
   "outputs": [
    {
     "name": "stdout",
     "output_type": "stream",
     "text": [
      "['ils\">Aaban</s', 'ils\">Aabheer</s', 'ils\">Aadam</s', 'ils\">Aadan</s', 'ils\">Aadarsh</s', 'ils\">Aadesh</s', 'ils\">Aadhan</s', 'ils\">Aadhira</s', 'ils\">Aadi</s', 'ils\">Aadidev</s', 'ils\">Aadil</s', 'ils\">Aadinath</s', 'ils\">Aadir</s', 'ils\">Aadit</s', 'ils\">Aaditeya</s', 'ils\">Aaditya</s', 'ils\">Aadrian</s', 'ils\">Aagam</s', 'ils\">Aagney</s', 'ils\">Aagneya</s', 'ils\">Aahan</s', 'ils\">Aahlaad</s', 'ils\">Aahva</s', 'ils\">Aaidan</s', 'ils\">Aaiden</s', 'ils\">Aaidyn</s', 'ils\">Aakaar</s', 'ils\">Aakaash</s', 'ils\">Aakar</s', 'ils\">Aakarshan</s', 'ils\">Aalap</s', 'ils\">Aalok</s', 'ils\">Aamil</s', 'ils\">Aamir</s', 'ils\">Aamod</s']\n"
     ]
    }
   ],
   "source": [
    "import urllib2 \n",
    "import re\n",
    "m_names = 'http://www.prokerala.com/kids/baby-names/boy/page-1.html'\n",
    "f_names = 'http://www.prokerala.com/kids/baby-names/girl/page-1.html'\n",
    "\n",
    "#male names\n",
    "infile = urllib2.urlopen(m_names) \n",
    "male_text = infile.read()   #here I used .read() so there you can see it with webbrowser.open() below.\n",
    "infile.close() \n",
    "\n",
    "#female names\n",
    "infile = urllib2.urlopen(f_names) \n",
    "female_text = infile.read()   #here I used .read() so there you can see it with webbrowser.open() below.\n",
    "infile.close() \n",
    "#print female_text\n",
    "\n",
    "male_name_lst_temp = re.findall('ils\">.*</s', male_text)\n",
    "female_name_lst = re.findall('ails\">.*</', female_text)\n",
    "\n",
    "print male_name_lst_temp"
   ]
  },
  {
   "cell_type": "code",
   "execution_count": 42,
   "metadata": {
    "collapsed": false
   },
   "outputs": [
    {
     "name": "stdout",
     "output_type": "stream",
     "text": [
      "[\"A'dab\", \"A'idah\", \"A'li\", \"A'mal\", 'Aabha', 'Aadab', 'Aafreen', 'Aaisha', 'Aakanksha', 'Aalia', 'Aaliya', 'Aaliyah', 'Aalliyah', 'Aamaal', 'Aamanda', 'Aamani', 'Aamber', 'Aaminah', 'Aamira', 'Aamirah', 'Aamiya', 'Aana', 'Aanisah', 'Aanya', 'Aaradhya', 'Aaria', 'Aariana', 'Aarianna', 'Aariel', 'Aarielle', 'Aarushi', 'Aaryah', 'Aaryana', 'Aaryanna', 'Aasia', \"A'dab\", \"A'idah\", \"A'li\", \"A'mal\", 'Aabha', 'Aadab', 'Aafreen', 'Aaisha', 'Aakanksha', 'Aalia', 'Aaliya', 'Aaliyah', 'Aalliyah', 'Aamaal', 'Aamanda', 'Aamani', 'Aamber', 'Aaminah', 'Aamira', 'Aamirah', 'Aamiya', 'Aana', 'Aanisah', 'Aanya', 'Aaradhya', 'Aaria', 'Aariana', 'Aarianna', 'Aariel', 'Aarielle', 'Aarushi', 'Aaryah', 'Aaryana', 'Aaryanna', 'Aasia']\n"
     ]
    }
   ],
   "source": [
    "import urllib2 \n",
    "import re\n",
    "\n",
    "male_name_lst = []\n",
    "female_name_lst = []\n",
    "z = 0 #number of pages iterated through\n",
    "\n",
    "while z <=1: #iterates through baby-names website pages for names \n",
    "\n",
    "\tm_names = 'http://www.prokerala.com/kids/baby-names/boy/page-' + str(z) + '.html'\n",
    "\tf_names = 'http://www.prokerala.com/kids/baby-names/girl/page-' + str(z) + '.html'\n",
    "\n",
    "\t#male names\n",
    "\tinfile = urllib2.urlopen(m_names) \n",
    "\tmale_text = infile.read()   \n",
    "\tinfile.close() \n",
    "\t#print male_text\n",
    "\n",
    "\t#female names\n",
    "\tinfile = urllib2.urlopen(f_names) \n",
    "\tfemale_text = infile.read()   \n",
    "\tinfile.close() \n",
    "\t#print female_text\n",
    "\t\n",
    "\t#finds all names and puts in list\n",
    "\tmale_name_lst_temp = re.findall('ils\">.*</s', male_text)\n",
    "\tmale_name_lst += male_name_lst_temp\n",
    "\tfemale_name_lst_temp = re.findall('ils\">.*</s', female_text)\n",
    "\tfemale_name_lst += female_name_lst_temp\n",
    "\n",
    "\tz+=1\n",
    "\n",
    "male_names = []\n",
    "for name in male_name_lst: # strips names of unnecessary characters\n",
    "    string = name.lstrip('ils\">').rstrip('</s')\n",
    "    male_names.append(string)\n",
    "\n",
    "#print male_names\n",
    "\n",
    "female_names = []\n",
    "for name in female_name_lst: #same as above\n",
    "    string = name.lstrip('ils\">').rstrip('</s')\n",
    "    female_names.append(string)\n",
    "\n",
    "#print female_names\n",
    "\n",
    "a = open( 'woman_names', 'w') \n",
    "b = open( 'man_names', 'w')\n",
    "\n",
    "a.write(str(female_names))\n",
    "b.write(str(male_names))\n",
    "\n",
    "a.close()\n",
    "b.close()\n",
    "\n",
    "#with open('woman_names', 'r') as f:\n",
    "    #print f.read()\n",
    "\n",
    "\n",
    "\n",
    "\n"
   ]
  },
  {
   "cell_type": "markdown",
   "metadata": {},
   "source": [
    "## End of wk 7-1"
   ]
  }
 ],
 "metadata": {
  "kernelspec": {
   "display_name": "Python 2",
   "language": "python",
   "name": "python2"
  },
  "language_info": {
   "codemirror_mode": {
    "name": "ipython",
    "version": 2
   },
   "file_extension": ".py",
   "mimetype": "text/x-python",
   "name": "python",
   "nbconvert_exporter": "python",
   "pygments_lexer": "ipython2",
   "version": "2.7.9"
  }
 },
 "nbformat": 4,
 "nbformat_minor": 0
}
