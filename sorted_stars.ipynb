{
 "cells": [
  {
   "cell_type": "code",
   "execution_count": null,
   "metadata": {
    "collapsed": false
   },
   "outputs": [],
   "source": [
    "'''\n",
    "\n",
    "star_sort takes a set of data with the star name, distance from the earth, apperent brightness, and absolute brightness\n",
    "and separates and sorts the data into 3 lists. These lists are organized from lowest to highest magnitude.\n",
    "\n",
    "'''\n",
    "\n",
    "from pprint import pprint\n",
    "\n",
    "data = [\n",
    "('Alpha Centauri A',    4.3, 0.26,     1.56),\n",
    "('Alpha Centauri B',    4.2, 0.077,    0.45),\n",
    "('Alpha Centauri C',    4.2, 0.00001,  0.00006), \n",
    "(\"Bernard's Star\",      6.0, 0.00004,  0.0005),\n",
    "('Wolf 359',            7.7, 0.000001, 0.00002),\n",
    "('BD +36 degrees 2147', 8.2, 0.0003,   0.006),\n",
    "('Luyten 726-8 A',      8.4, 0.000003, 0.00006),\n",
    "('Luyten 726-8 B',      8.4, 0.000002, 0.00004),\n",
    "('Sirius A',            8.6, 1.00,     23.6),\n",
    "('Sirius B',            8.6, 0.001,    0.003),\n",
    "('Ross 154',            9.4, 0.00002,  0.0005),\n",
    "]\n",
    "\n",
    "def star_sort(data):\n",
    "    \n",
    "    dist =    []\n",
    "    app_brt = []\n",
    "    abs_brt = []\n",
    "\n",
    "    print 'Running...', '\\n'\n",
    "\n",
    "    print 'Ranked by Distance:'\n",
    "    for pt in data:\n",
    "        dist += [(pt[0], pt[1])]    \n",
    "    dist_sorted = sorted(dist, key = lambda x : x[1])\n",
    "    pprint(dist_sorted)\n",
    "    print\n",
    "\n",
    "    print 'Ranked by Apperent Brightness:'\n",
    "    for pt in data:\n",
    "        app_brt += [(pt[0], pt[2])]\n",
    "    app_sorted = sorted(app_brt, key = lambda x : x[1])\n",
    "    pprint(app_sorted),\n",
    "    print\n",
    "\n",
    "    print 'Ranked by Absolute Brightness:'\n",
    "    for pt in data:\n",
    "        abs_brt += [(pt[0], pt[3])]\n",
    "    abs_brt = sorted(abs_brt, key = lambda x : x[1])\n",
    "    pprint(abs_brt)\n",
    "    print\n",
    "\n",
    "    return 'Finished!'\n",
    "\n",
    "print star_sort(data) "
   ]
  },
  {
   "cell_type": "code",
   "execution_count": null,
   "metadata": {
    "collapsed": true
   },
   "outputs": [],
   "source": []
  }
 ],
 "metadata": {
  "kernelspec": {
   "display_name": "Python 2",
   "language": "python",
   "name": "python2"
  },
  "language_info": {
   "codemirror_mode": {
    "name": "ipython",
    "version": 2
   },
   "file_extension": ".py",
   "mimetype": "text/x-python",
   "name": "python",
   "nbconvert_exporter": "python",
   "pygments_lexer": "ipython2",
   "version": "2.7.9"
  }
 },
 "nbformat": 4,
 "nbformat_minor": 0
}
