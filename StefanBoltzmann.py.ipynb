{
 "cells": [
  {
   "cell_type": "code",
   "execution_count": 128,
   "metadata": {
    "collapsed": false
   },
   "outputs": [
    {
     "name": "stdout",
     "output_type": "stream",
     "text": [
      "running... \n",
      "\n",
      "number of steps : 100.000000\n",
      "dy :  1.0000 ,  integral = 6.4975852356\n",
      "frac_diff : N/A \n",
      "\n",
      "number of steps : 200.000000\n",
      "dy :  2.0000 ,  integral = 6.49416726685\n",
      "frac_diff :  0.0005263136303 \n",
      "\n",
      "number of steps : 300.000000\n",
      "dy :  3.0000 ,  integral = 6.49398441255\n",
      "frac_diff :  2.81574890932e-05 \n",
      "\n",
      "number of steps : 400.000000\n",
      "dy :  4.0000 ,  integral = 6.4939536438\n",
      "frac_diff :  4.73806148023e-06 \n",
      "\n",
      "number of steps : 500.000000\n",
      "dy :  5.0000 ,  integral = 6.4939452356\n",
      "frac_diff :  1.29477579804e-06 \n",
      "\n",
      "number of steps : 600.000000\n",
      "dy :  6.0000 ,  integral = 6.49394221541\n",
      "frac_diff :  4.65078104054e-07 \n",
      "\n",
      "The integral evaluated to within specified accuracy:"
     ]
    },
    {
     "ename": "ValueError",
     "evalue": "Unknown format code 'd' for object of type 'float'",
     "output_type": "error",
     "traceback": [
      "\u001b[1;31m---------------------------------------------------------------------------\u001b[0m",
      "\u001b[1;31mValueError\u001b[0m                                Traceback (most recent call last)",
      "\u001b[1;32m<ipython-input-128-90c2b972f5c3>\u001b[0m in \u001b[0;36m<module>\u001b[1;34m()\u001b[0m\n\u001b[0;32m     48\u001b[0m \u001b[1;33m\u001b[0m\u001b[0m\n\u001b[0;32m     49\u001b[0m \u001b[1;33m\u001b[0m\u001b[0m\n\u001b[1;32m---> 50\u001b[1;33m \u001b[1;32mprint\u001b[0m \u001b[0mstefboltz\u001b[0m\u001b[1;33m(\u001b[0m\u001b[1;36m0.0\u001b[0m\u001b[1;33m,\u001b[0m\u001b[1;36m100.0\u001b[0m\u001b[1;33m,\u001b[0m\u001b[1;36m1\u001b[0m\u001b[1;33m)\u001b[0m\u001b[1;33m\u001b[0m\u001b[0m\n\u001b[0m\u001b[0;32m     51\u001b[0m \u001b[1;33m\u001b[0m\u001b[0m\n",
      "\u001b[1;32m<ipython-input-128-90c2b972f5c3>\u001b[0m in \u001b[0;36mstefboltz\u001b[1;34m(a, b, dy)\u001b[0m\n\u001b[0;32m     41\u001b[0m         \u001b[0mdy\u001b[0m \u001b[1;33m+=\u001b[0m \u001b[1;36m1\u001b[0m\u001b[1;33m\u001b[0m\u001b[0m\n\u001b[0;32m     42\u001b[0m \u001b[1;33m\u001b[0m\u001b[0m\n\u001b[1;32m---> 43\u001b[1;33m     \u001b[1;32mprint\u001b[0m \u001b[1;34m'The integral evaluated to within specified accuracy:'\u001b[0m\u001b[1;33m,\u001b[0m \u001b[1;34m'{0:7d}'\u001b[0m\u001b[1;33m.\u001b[0m\u001b[0mformat\u001b[0m\u001b[1;33m(\u001b[0m\u001b[0mtot_area\u001b[0m\u001b[1;33m)\u001b[0m\u001b[1;33m\u001b[0m\u001b[0m\n\u001b[0m\u001b[0;32m     44\u001b[0m     \u001b[1;32mprint\u001b[0m \u001b[1;34m'The upper limit of its fractional error is estimated to be:'\u001b[0m\u001b[1;33m,\u001b[0m \u001b[0mfrac_diff\u001b[0m\u001b[1;33m*\u001b[0m\u001b[1;36m100\u001b[0m\u001b[1;33m,\u001b[0m \u001b[1;34m'%'\u001b[0m\u001b[1;33m\u001b[0m\u001b[0m\n\u001b[0;32m     45\u001b[0m     \u001b[1;32mprint\u001b[0m \u001b[1;34m'The correct answer is: '\u001b[0m\u001b[1;33m,\u001b[0m \u001b[0mmath\u001b[0m\u001b[1;33m.\u001b[0m\u001b[0mpi\u001b[0m\u001b[1;33m**\u001b[0m\u001b[1;36m4\u001b[0m\u001b[1;33m/\u001b[0m\u001b[1;36m15.0\u001b[0m\u001b[1;33m\u001b[0m\u001b[0m\n",
      "\u001b[1;31mValueError\u001b[0m: Unknown format code 'd' for object of type 'float'"
     ]
    }
   ],
   "source": [
    "import math\n",
    "\n",
    "def midpoints(a,b,dy):\n",
    "    n = (b-a)*dy\n",
    "    print 'number of steps :', '{:4f}'.format(n)\n",
    "    w = (b-a)/n \n",
    "    mdpts = []\n",
    "    l = a\n",
    "    r = l + w\n",
    "    while r <= b:\n",
    "        mdpts += [(l+r)/2.0]\n",
    "        l += w\n",
    "        r += w\n",
    "    return mdpts, w\n",
    "\n",
    "def reimann_sum(mdpts, w):        \n",
    "    area=0.0\n",
    "    for m in mdpts:\n",
    "        #print 'm', m\n",
    "        area += (m**3/(math.exp(m)-1))\n",
    "    tot_area = area*w\n",
    "    print ' integral =', tot_area \n",
    "    return tot_area\n",
    "\n",
    "def stefboltz(a,b,dy):\n",
    "    print 'running...', '\\n'\n",
    "    tot_area_old = 0.0\n",
    "    tot_area = 0.0\n",
    "    frac_diff = 1.0\n",
    "    \n",
    "    while frac_diff >= 0.000001:\n",
    "        mdpts, w = midpoints(a,b,dy)\n",
    "        tot_area_old = tot_area\n",
    "        print 'dy : ', '{0:.4f}'.format(dy),',',\n",
    "        tot_area = reimann_sum(mdpts,w)\n",
    "        frac_diff = math.fabs((tot_area - tot_area_old) / tot_area)\n",
    "        if frac_diff == 1.0:\n",
    "            print 'frac_diff : N/A', '\\n'\n",
    "        else:\n",
    "            print 'frac_diff : ', frac_diff, '\\n'\n",
    "        dy += 1\n",
    "    \n",
    "    print 'The integral evaluated to within specified accuracy:', '{0:7d}'.format(tot_area)\n",
    "    print 'The upper limit of its fractional error is estimated to be:', frac_diff*100, '%'\n",
    "    print 'The correct answer is: ', math.pi**4/15.0\n",
    "    print 'The actual fractional error is:', (tot_area - math.pi**4/15.0) / tot_area * 100,\n",
    "    return '%'\n",
    "\n",
    "    \n",
    "print stefboltz(0.0,100.0,1)\n",
    "        "
   ]
  },
  {
   "cell_type": "code",
   "execution_count": null,
   "metadata": {
    "collapsed": true
   },
   "outputs": [],
   "source": [
    "import math\n",
    "\n",
    "def stefboltz(a,b,dy):\n",
    "    frac_diff = (tot_area-tot_area_old)/tot_area\n",
    "    while frac_diff >= 0.000001\n",
    "    \n",
    "    \n",
    "        n = (b-a)*dy\n",
    "        w = (b-a)/n \n",
    "        mdpts = []\n",
    "        l = a\n",
    "        r = l + w\n",
    "        while r <= b:\n",
    "            mdpts += [(l+r)/2.0]\n",
    "            l += w\n",
    "            r += w\n",
    "        \n",
    "        area=0.0\n",
    "        for m in mdpts:\n",
    "            area += (m**3/(math.exp(m)-1))\n",
    "        tot_area = area*w\n",
    "        tot_area_old =  \n",
    "        #return tot_area, math.pi**4/15.0\n",
    "\n",
    "#print stefboltz(0.0,100.0,10)\n",
    "        "
   ]
  }
 ],
 "metadata": {
  "kernelspec": {
   "display_name": "Python 2",
   "language": "python",
   "name": "python2"
  },
  "language_info": {
   "codemirror_mode": {
    "name": "ipython",
    "version": 2
   },
   "file_extension": ".py",
   "mimetype": "text/x-python",
   "name": "python",
   "nbconvert_exporter": "python",
   "pygments_lexer": "ipython2",
   "version": "2.7.9"
  }
 },
 "nbformat": 4,
 "nbformat_minor": 0
}
