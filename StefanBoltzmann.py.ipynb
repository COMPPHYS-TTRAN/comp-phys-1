{
 "cells": [
  {
   "cell_type": "code",
   "execution_count": 56,
   "metadata": {
    "collapsed": false
   },
   "outputs": [
    {
     "name": "stdout",
     "output_type": "stream",
     "text": [
      "[2.0, 4.0, 6.0, 8.0, 10.0, 12.0, 14.0, 16.0, 18.0, 20.0, 22.0, 24.0, 26.0, 28.0, 30.0, 32.0, 34.0, 36.0, 38.0, 40.0, 42.0, 44.0, 46.0, 48.0, 50.0, 52.0, 54.0, 56.0, 58.0, 60.0, 62.0, 64.0, 66.0, 68.0, 70.0, 72.0, 74.0, 76.0, 78.0, 80.0, 82.0, 84.0, 86.0, 88.0, 90.0, 92.0, 94.0, 96.0, 98.0, 100.0]\n"
     ]
    }
   ],
   "source": [
    "import math\n",
    "\n",
    "def stefboltz(a,b,dy):\n",
    "    n = (b-a)*dy\n",
    "    w = (b-a)/n \n",
    "    mdpts = []\n",
    "    y = a\n",
    "    while y < b:\n",
    "        mdpts += [(2.0*y+w)/2] #wrong equation\n",
    "        y += w\n",
    "    return mdpts \n",
    "    \n",
    "    area=0.0\n",
    "    for m in mdpts:\n",
    "        area += (m**3/(math.exp(m)-1))\n",
    "    tot_area = area*w\n",
    "    return tot_area, math.pi**4/15.0\n",
    "    \n",
    "        \n",
    "\n",
    "print stefboltz(1.0,100.0,.5)\n",
    "        "
   ]
  },
  {
   "cell_type": "code",
   "execution_count": null,
   "metadata": {
    "collapsed": true
   },
   "outputs": [],
   "source": []
  }
 ],
 "metadata": {
  "kernelspec": {
   "display_name": "Python 2",
   "language": "python",
   "name": "python2"
  },
  "language_info": {
   "codemirror_mode": {
    "name": "ipython",
    "version": 2
   },
   "file_extension": ".py",
   "mimetype": "text/x-python",
   "name": "python",
   "nbconvert_exporter": "python",
   "pygments_lexer": "ipython2",
   "version": "2.7.9"
  }
 },
 "nbformat": 4,
 "nbformat_minor": 0
}
