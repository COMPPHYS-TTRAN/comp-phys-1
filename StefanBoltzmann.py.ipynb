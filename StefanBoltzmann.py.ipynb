{
 "cells": [
  {
   "cell_type": "code",
   "execution_count": 7,
   "metadata": {
    "collapsed": false
   },
   "outputs": [
    {
     "name": "stdout",
     "output_type": "stream",
     "text": [
      "running... \n",
      "\n",
      "number of steps : 100.000000\n",
      "dy :  1.0000 ,  integral = 6.4975852356\n",
      "frac_diff : N/A \n",
      "\n",
      "number of steps : 200.000000\n",
      "dy :  0.5000 ,  integral = 6.49416726685\n",
      "frac_diff :  0.0005263136303 \n",
      "\n",
      "number of steps : 400.000000\n",
      "dy :  0.2500 ,  integral = 6.4939536438\n",
      "frac_diff :  3.28956839854e-05 \n",
      "\n",
      "number of steps : 800.000000\n",
      "dy :  0.1250 ,  integral = 6.49394029236\n",
      "frac_diff :  2.05598447417e-06 \n",
      "\n",
      "number of steps : 1600.000000\n",
      "dy :  0.0625 ,  integral = 6.4939394579\n",
      "frac_diff :  1.28499047361e-07 \n",
      "\n",
      "The integral evaluated to within specified accuracy: 6.493939\n",
      "The upper limit of its fractional error is estimated to be: 1.28499047361e-05 %\n",
      "The correct answer is:  6.49393940227\n",
      "The actual fractional error is: 8.5666028474e-07 %\n"
     ]
    }
   ],
   "source": [
    "import math\n",
    "\n",
    "def midpoints(a,b,dy):\n",
    "    n = (b-a)/dy\n",
    "    print 'number of steps :', '{:4f}'.format(n)\n",
    "    w = (b-a)/n \n",
    "    mdpts = []\n",
    "    l = a\n",
    "    r = l + w\n",
    "    while r <= b:\n",
    "        mdpts += [(l+r)/2.0]\n",
    "        l += w\n",
    "        r += w\n",
    "    return mdpts, w\n",
    "\n",
    "def reimann_sum(mdpts, w):        \n",
    "    area=0.0\n",
    "    for m in mdpts:\n",
    "        #print 'm', m\n",
    "        area += (m**3/(math.exp(m)-1))\n",
    "    tot_area = area*w\n",
    "    print ' integral =', tot_area \n",
    "    return tot_area\n",
    "\n",
    "def stefboltz(a,b,dy):\n",
    "    print 'running...', '\\n'\n",
    "    tot_area_old = 0.0\n",
    "    tot_area = 0.0\n",
    "    frac_diff = 1.0\n",
    "    \n",
    "    while frac_diff >= 0.000001:\n",
    "        mdpts, w = midpoints(a,b,dy)\n",
    "        tot_area_old = tot_area\n",
    "        print 'dy : ', '{0:.4f}'.format(dy),',',\n",
    "        tot_area = reimann_sum(mdpts,w)\n",
    "        frac_diff = math.fabs((tot_area - tot_area_old) / tot_area)\n",
    "        if frac_diff == 1.0:\n",
    "            print 'frac_diff : N/A', '\\n'\n",
    "        else:\n",
    "            print 'frac_diff : ', frac_diff, '\\n'\n",
    "        dy /= 2.0\n",
    "    \n",
    "    print 'The integral evaluated to within specified accuracy:', '{0:7f}'.format(tot_area)\n",
    "    print 'The upper limit of its fractional error is estimated to be:', frac_diff*100, '%'\n",
    "    print 'The correct answer is: ', math.pi**4/15.0\n",
    "    print 'The actual fractional error is:', (tot_area - math.pi**4/15.0) / tot_area * 100,\n",
    "    return '%'\n",
    "\n",
    "    \n",
    "print stefboltz(0.0,100.0,1)\n",
    "        "
   ]
  },
  {
   "cell_type": "code",
   "execution_count": null,
   "metadata": {
    "collapsed": true
   },
   "outputs": [],
   "source": []
  }
 ],
 "metadata": {
  "kernelspec": {
   "display_name": "Python 2",
   "language": "python",
   "name": "python2"
  },
  "language_info": {
   "codemirror_mode": {
    "name": "ipython",
    "version": 2
   },
   "file_extension": ".py",
   "mimetype": "text/x-python",
   "name": "python",
   "nbconvert_exporter": "python",
   "pygments_lexer": "ipython2",
   "version": "2.7.9"
  }
 },
 "nbformat": 4,
 "nbformat_minor": 0
}
