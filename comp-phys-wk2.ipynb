{
 "cells": [
  {
   "cell_type": "code",
   "execution_count": 7,
   "metadata": {
    "collapsed": false
   },
   "outputs": [
    {
     "name": "stdout",
     "output_type": "stream",
     "text": [
      "with the for loop, the sum is 1.63498390018\n"
     ]
    }
   ],
   "source": [
    "from math import pi\n",
    "s = 0 \n",
    "max = 100 \n",
    "\n",
    "for i in range (max):\n",
    "    s+= 1./(i+1)**2\n",
    "    \n",
    "print 'with the for loop, the sum is', s"
   ]
  }
 ],
 "metadata": {
  "kernelspec": {
   "display_name": "Python 2",
   "language": "python",
   "name": "python2"
  },
  "language_info": {
   "codemirror_mode": {
    "name": "ipython",
    "version": 2
   },
   "file_extension": ".py",
   "mimetype": "text/x-python",
   "name": "python",
   "nbconvert_exporter": "python",
   "pygments_lexer": "ipython2",
   "version": "2.7.9"
  }
 },
 "nbformat": 4,
 "nbformat_minor": 0
}
