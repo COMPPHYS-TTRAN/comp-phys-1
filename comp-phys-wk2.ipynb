{
 "cells": [
  {
   "cell_type": "code",
   "execution_count": 14,
   "metadata": {
    "collapsed": false
   },
   "outputs": [
    {
     "name": "stdout",
     "output_type": "stream",
     "text": [
      "with the for loop, the sum is 1.64393456668\n",
      "correct answer: 1.64493406685\n"
     ]
    }
   ],
   "source": [
    "from math import pi\n",
    "s = 0 \n",
    "max = 1000 \n",
    "\n",
    "for i in range (max):\n",
    "    s+= 1./(i+1)**2\n",
    "    \n",
    "print 'with the for loop, the sum is', s\n",
    "\n",
    "i=1\n",
    "s=0\n",
    "\n",
    "while i <= max:\n",
    "    s += 1./i**2\n",
    "    i = i+1\n",
    "print 'correct answer:', pi**2/6\n"
   ]
  },
  {
   "cell_type": "code",
   "execution_count": 18,
   "metadata": {
    "collapsed": false
   },
   "outputs": [
    {
     "name": "stdout",
     "output_type": "stream",
     "text": [
      "hello world\n"
     ]
    }
   ],
   "source": [
    "a = 'hello'\n",
    "space = ' '\n",
    "b = 'world'\n",
    "print a + space +b\n"
   ]
  },
  {
   "cell_type": "code",
   "execution_count": 23,
   "metadata": {
    "collapsed": false
   },
   "outputs": [
    {
     "name": "stdout",
     "output_type": "stream",
     "text": [
      "False\n",
      "True\n",
      "True\n",
      "True\n",
      "True\n",
      "True\n",
      "True\n"
     ]
    }
   ],
   "source": [
    "print bool(0.)\n",
    "print bool(98)\n",
    "print bool(23)\n",
    "print bool(34)\n",
    "print bool(55)\n",
    "print bool(20)\n",
    "print bool(1)\n"
   ]
  },
  {
   "cell_type": "code",
   "execution_count": 25,
   "metadata": {
    "collapsed": false
   },
   "outputs": [
    {
     "name": "stdout",
     "output_type": "stream",
     "text": [
      "True\n",
      "  -20  -4.0\n",
      "True\n",
      "  -15   5.0\n",
      "True\n",
      "   -5  23.0\n",
      "True\n",
      "    5  41.0\n",
      "True\n",
      "   10  50.0\n",
      "True\n",
      "   15  59.0\n",
      "True\n",
      "   20  68.0\n"
     ]
    }
   ],
   "source": [
    "Cdegrees = [-20, -15,-5,5,10,15,20]\n",
    "for C in Cdegrees:\n",
    "    print C in Cdegrees\n",
    "    F = (9.0/5)*C +32.\n",
    "    print '%5d %5.1f' % (C,F)"
   ]
  },
  {
   "cell_type": "code",
   "execution_count": 34,
   "metadata": {
    "collapsed": false
   },
   "outputs": [
    {
     "name": "stdout",
     "output_type": "stream",
     "text": [
      " C    F\n",
      " -100 -148.0\n",
      "  -95 -139.0\n",
      "  -90 -130.0\n",
      "  -85 -121.0\n",
      "  -80 -112.0\n",
      "  -75 -103.0\n",
      "  -70 -94.0\n",
      "  -65 -85.0\n",
      "  -60 -76.0\n",
      "  -55 -67.0\n",
      "  -50 -58.0\n",
      "  -45 -49.0\n",
      "  -40 -40.0\n",
      "  -35 -31.0\n",
      "  -30 -22.0\n",
      "  -25 -13.0\n",
      "  -20  -4.0\n",
      "  -15   5.0\n",
      "  -10  14.0\n",
      "   -5  23.0\n",
      "    0  32.0\n",
      "    5  41.0\n",
      "   10  50.0\n",
      "   15  59.0\n",
      "   20  68.0\n",
      "   25  77.0\n",
      "   30  86.0\n",
      "   35  95.0\n",
      "   40 104.0\n",
      "   45 113.0\n",
      "   50 122.0\n",
      "   55 131.0\n",
      "   60 140.0\n",
      "   65 149.0\n",
      "   70 158.0\n",
      "   75 167.0\n",
      "   80 176.0\n",
      "   85 185.0\n",
      "   90 194.0\n",
      "   95 203.0\n",
      "  100 212.0\n"
     ]
    }
   ],
   "source": [
    "#breakout: convert the above into a while loop\n",
    "\n",
    "c = -100\n",
    "print ' C    F'\n",
    "while c <= 100:\n",
    "    f = (9.0/5)*c +32.\n",
    "    print '%5d %5.1f' % (c,f)\n",
    "    c += 5\n",
    "\n"
   ]
  }
 ],
 "metadata": {
  "kernelspec": {
   "display_name": "Python 2",
   "language": "python",
   "name": "python2"
  },
  "language_info": {
   "codemirror_mode": {
    "name": "ipython",
    "version": 2
   },
   "file_extension": ".py",
   "mimetype": "text/x-python",
   "name": "python",
   "nbconvert_exporter": "python",
   "pygments_lexer": "ipython2",
   "version": "2.7.9"
  }
 },
 "nbformat": 4,
 "nbformat_minor": 0
}
