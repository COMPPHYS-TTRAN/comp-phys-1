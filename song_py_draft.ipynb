{
 "cells": [
  {
   "cell_type": "code",
   "execution_count": 1,
   "metadata": {
    "collapsed": false
   },
   "outputs": [
    {
     "ename": "SyntaxError",
     "evalue": "invalid syntax (<ipython-input-1-e1ccf76e9e1f>, line 32)",
     "output_type": "error",
     "traceback": [
      "\u001b[0;36m  File \u001b[0;32m\"<ipython-input-1-e1ccf76e9e1f>\"\u001b[0;36m, line \u001b[0;32m32\u001b[0m\n\u001b[0;31m    def__init__(self, ):\u001b[0m\n\u001b[0m                       ^\u001b[0m\n\u001b[0;31mSyntaxError\u001b[0m\u001b[0;31m:\u001b[0m invalid syntax\n"
     ]
    }
   ],
   "source": [
    "'''\n",
    "\n",
    "Tone \n",
    "\n",
    "f - frequency\n",
    "dur - duration\n",
    "sr - sampling rate\n",
    "signal - a numpy array that stores the tone plus the overtones, if any.\n",
    "orig_signal - a numpy array that stores the simple one-frequency tone with frequency f1(i.e., no overtones). \n",
    "overtones - a dictionary that stores the overtones.  Each key should be a number of multiples of f1 and the corresponding value should be an overtone numpy array. \n",
    "OT_num - the number of overtones present.  This number should increase by one each time a\n",
    "new overtone is created.\n",
    "\n",
    "get_tone() - generates a tone at the given fundamental frequency, f1. \n",
    "It should take f (the frequency f1) and duration  as arguments. \n",
    "You can either treat these two as positional or keyword arguments.  \n",
    "It should also have a keyword argument play_sound, with a default\n",
    "value of False.  \n",
    "If it’s set to be True, when the method get_tone() is invoked,\n",
    "it should play the tone generated.  Set the amplitude to be 210, \n",
    "to avoid saturation.  You can control the volume in other ways; \n",
    "see the method playsound() below.  The method returns the numpy\n",
    "array that is the tone generated.\n",
    "\n",
    "get_overtone()- generates an overtone that has a frequency that \n",
    "is multi×f1, where multi is a an argument for this method.  \n",
    "Just as for get_tone(), It should also have a keyword argument play_sound.  It returns None.\n",
    "'''\n",
    "\n",
    "from scipy.io.wavfile import write\n",
    "import os\n",
    "\n",
    "class Tone:\n",
    "    \n",
    "    def __init__(self, f, dur, sr):\n",
    "        self.f = 0\n",
    "        self.dur = 0\n",
    "        self.sr = 0\n",
    "        self.signal = 0\n",
    "        self.orig_signal = 0\n",
    "        self.overtones = {}\n",
    "        self.ot_num = 0\n",
    "    \n",
    "    def playsound(sample_rate, sound):\n",
    "        write('tmp.wav', sample_rate, sound)\n",
    "        os.system(\"afplay tmp.wav\") \n",
    "        os.system(\"rm tmp.wav\") \n",
    "        return\n",
    "    \n",
    "    def get_tone(self, f, duration, play_sound = False):\n",
    "        amp = 2**10\n",
    "        time_pts = np.linspace(0, duration, duration*sample_rate)\n",
    "        tone_data = np.int16(amp*np.sin(np.pi*2*f*time_pts))\n",
    "        if play_sound == True:\n",
    "            playsound(sr, tone_data)\n",
    "        return tone_data\n",
    "    \n",
    "    def get_overtone(self, multi, play_sound = False):\n",
    "        tone_data = np.int16(amp*np.sin(np.pi*2*multi*f*time_pts))\n",
    "        if play_sound == True:\n",
    "            playsound(sr, tone_data)\n",
    "        return None \n",
    "        \n",
    "        \n",
    "\n"
   ]
  },
  {
   "cell_type": "code",
   "execution_count": null,
   "metadata": {
    "collapsed": true
   },
   "outputs": [],
   "source": [
    "\n"
   ]
  }
 ],
 "metadata": {
  "kernelspec": {
   "display_name": "Python 2",
   "language": "python",
   "name": "python2"
  },
  "language_info": {
   "codemirror_mode": {
    "name": "ipython",
    "version": 2
   },
   "file_extension": ".py",
   "mimetype": "text/x-python",
   "name": "python",
   "nbconvert_exporter": "python",
   "pygments_lexer": "ipython2",
   "version": "2.7.9"
  }
 },
 "nbformat": 4,
 "nbformat_minor": 0
}
