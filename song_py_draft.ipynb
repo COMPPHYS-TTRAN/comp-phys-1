{
 "cells": [
  {
   "cell_type": "code",
   "execution_count": 4,
   "metadata": {
    "collapsed": false
   },
   "outputs": [
    {
     "data": {
      "text/plain": [
       "array([   0,   64,  128, ..., -128,  -64,    0], dtype=int16)"
      ]
     },
     "execution_count": 4,
     "metadata": {},
     "output_type": "execute_result"
    }
   ],
   "source": [
    "'''\n",
    "\n",
    "Tone \n",
    "\n",
    "'''\n",
    "\n",
    "from scipy.io.wavfile import write\n",
    "import os\n",
    "import numpy as np\n",
    "\n",
    "class Tone:\n",
    "    \n",
    "    def __init__(self):\n",
    "        self.f = 0\n",
    "        self.dur = 0\n",
    "        self.sample_rate = 44100\n",
    "        self.signal = 0\n",
    "        self.orig_signal = 0\n",
    "        self.overtones = {}\n",
    "        self.ot_num = 0\n",
    "    \n",
    "    def get_tone(self, freq, duration, play_sound = False):\n",
    "        self.f = freq\n",
    "        self.dur = duration\n",
    "        amp = 2**10\n",
    "        time_pts = np.linspace(0, self.dur, self.dur*self.sample_rate)\n",
    "        tone_data = np.int16(amp*np.sin(np.pi*2*self.f*time_pts))\n",
    "        if play_sound == True:\n",
    "            playsound(sample_rate, tone_data)\n",
    "        return tone_data\n",
    "    \n",
    "    def get_overtone(self, multi, play_sound = False):\n",
    "        time_pts = np.linspace(0, self.dur, self.dur*self.sample_rate)\n",
    "        overtone_data = np.int16(amp*np.sin(np.pi*2*multi*f*time_pts))\n",
    "        self.overtones[multi*self.f] = tone_data\n",
    "        if play_sound == True:\n",
    "            playsound(self.sample_rate, tone_data)\n",
    "        self.ot_num += 1\n",
    "        return None \n",
    "\n",
    "    #not satisfied\n",
    "#     def comb_tones(self, weight_opt = False):\n",
    "#         weights = np.ones(self.ot_num +1)\n",
    "#         if weight_opt == True:\n",
    "#             for i in range(self.ot_num + 2):\n",
    "#                 weights[i] = raw_input('Input the weight of the tone')\n",
    "\n",
    "#         freq = np.fft.fftfreq(sound.shape[0], d = 1./sample_rate)\n",
    "#         ft = np.fft.fft(np.float64(sound))\n",
    "#         filt1 = np.abs(freq) < 500. #boolean array with same length as freq\n",
    "#         filt2 = (np.abs(freq) > 500) * (np.abs(freq) < 1000)\n",
    "#         filt3 = np.abs(freq) > 1000\n",
    "#         sound1 = signal_rec(ft, filt1) #gets rid of frequencies higher than 500\n",
    "#         sound2 = signal_rec(ft, filt2)\n",
    "#         sound3 = signal_rec(ft, filt3)\n",
    "\n",
    "#         A = 1 / float(np.sqrt(wt1**2. + wt2**2. + wt3**2.))\n",
    "#         super_sound = A * (wt1*sound1 + wt2*sound2 + wt3*sound3)\n",
    "#         return super_sound\n",
    "\n",
    "#     def playsound(sample_rate = 44100, sound):\n",
    "#         write('tmp.wav', sample_rate, sound)\n",
    "#         os.system(\"afplay tmp.wav\") \n",
    "#         os.system(\"rm tmp.wav\") \n",
    "#         return\n",
    "    \n",
    "    def plot_fourier(signal,sample_rate = 44100, freq_lim = 2000., amp_lim = 1e7):\n",
    "        ft = np.fft.fft(np.float64(signal))\n",
    "        freq = np.fft.fftfreq(signal.shape[-1], d = 1./sample_rate)\n",
    "        plt.figure()\n",
    "        plt.title('Real')\n",
    "        plt.plot(freq, ft.real, 'b-')\n",
    "        plt.xlim([-freq_lim, freq_lim])\n",
    "        plt.figure()\n",
    "        plt.title('Imaginary')\n",
    "        plt.plot(freq, ft.imag, 'g-')\n",
    "        plt.ylim([-amp_lim, amp_lim])\n",
    "        plt.show()\n",
    "        #return ft, freq\n",
    "    \n",
    "    def plot_sound(self, t_lim = 0.02):\n",
    "        time_pts = np.linspace(0, t_lim, t_lim*self.sample_rate)\n",
    "        #sound_pts = comb(...)\n",
    "        if blah:\n",
    "            print 'blah'\n",
    "        else:\n",
    "            print 'ta'\n",
    "    \n",
    "\n",
    "#ian = Tone()\n",
    "#ian.get_tone(440, 2)\n",
    "        \n",
    "        \n",
    "\n"
   ]
  },
  {
   "cell_type": "code",
   "execution_count": null,
   "metadata": {
    "collapsed": true
   },
   "outputs": [],
   "source": [
    "\n"
   ]
  }
 ],
 "metadata": {
  "kernelspec": {
   "display_name": "Python 2",
   "language": "python",
   "name": "python2"
  },
  "language_info": {
   "codemirror_mode": {
    "name": "ipython",
    "version": 2
   },
   "file_extension": ".py",
   "mimetype": "text/x-python",
   "name": "python",
   "nbconvert_exporter": "python",
   "pygments_lexer": "ipython2",
   "version": "2.7.9"
  }
 },
 "nbformat": 4,
 "nbformat_minor": 0
}
